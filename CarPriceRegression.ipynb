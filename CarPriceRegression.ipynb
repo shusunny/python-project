{
  "nbformat": 4,
  "nbformat_minor": 0,
  "metadata": {
    "colab": {
      "name": "CarPriceRegression.ipynb",
      "provenance": [],
      "collapsed_sections": [],
      "toc_visible": true
    },
    "kernelspec": {
      "name": "python3",
      "display_name": "Python 3"
    },
    "language_info": {
      "name": "python"
    }
  },
  "cells": [
    {
      "cell_type": "markdown",
      "metadata": {
        "id": "xd9D2kYLWMKv"
      },
      "source": [
        "## Data Loading"
      ]
    },
    {
      "cell_type": "code",
      "metadata": {
        "id": "O7Ozn1njWGWj"
      },
      "source": [
        "import pandas as pd\n",
        "import numpy as np\n",
        "import matplotlib.pyplot as plt"
      ],
      "execution_count": null,
      "outputs": []
    },
    {
      "cell_type": "code",
      "metadata": {
        "colab": {
          "base_uri": "https://localhost:8080/"
        },
        "id": "KCO1-YPne4--",
        "outputId": "750940d1-94c3-40cb-fe24-ae6713ca17ca"
      },
      "source": [
        "data = pd.read_csv(\"https://raw.githubusercontent.com/shusunny/dataTools/master/toyota.csv\")\n",
        "data.info()"
      ],
      "execution_count": null,
      "outputs": [
        {
          "output_type": "stream",
          "text": [
            "<class 'pandas.core.frame.DataFrame'>\n",
            "RangeIndex: 6738 entries, 0 to 6737\n",
            "Data columns (total 9 columns):\n",
            " #   Column        Non-Null Count  Dtype  \n",
            "---  ------        --------------  -----  \n",
            " 0   model         6738 non-null   object \n",
            " 1   year          6738 non-null   int64  \n",
            " 2   price         6738 non-null   int64  \n",
            " 3   transmission  6738 non-null   object \n",
            " 4   mileage       6738 non-null   int64  \n",
            " 5   fuelType      6738 non-null   object \n",
            " 6   tax           6738 non-null   int64  \n",
            " 7   mpg           6738 non-null   float64\n",
            " 8   engineSize    6738 non-null   float64\n",
            "dtypes: float64(2), int64(4), object(3)\n",
            "memory usage: 473.9+ KB\n"
          ],
          "name": "stdout"
        }
      ]
    },
    {
      "cell_type": "code",
      "metadata": {
        "colab": {
          "base_uri": "https://localhost:8080/"
        },
        "id": "4myuaPOStXVZ",
        "outputId": "3ff5eccd-6ef7-46c0-98ba-0867a179d327"
      },
      "source": [
        "data.isnull().sum()"
      ],
      "execution_count": null,
      "outputs": [
        {
          "output_type": "execute_result",
          "data": {
            "text/plain": [
              "model           0\n",
              "year            0\n",
              "price           0\n",
              "transmission    0\n",
              "mileage         0\n",
              "fuelType        0\n",
              "tax             0\n",
              "mpg             0\n",
              "engineSize      0\n",
              "dtype: int64"
            ]
          },
          "metadata": {
            "tags": []
          },
          "execution_count": 3
        }
      ]
    },
    {
      "cell_type": "code",
      "metadata": {
        "colab": {
          "base_uri": "https://localhost:8080/",
          "height": 725
        },
        "id": "VkYA7-WrjVZr",
        "outputId": "e3b18e64-61c1-48e3-de2f-9e440eb577e8"
      },
      "source": [
        "# Numerical data hist map. \n",
        "data_column_names = list(data.columns)\n",
        "data_mean = pd.DataFrame(data, columns = data_column_names)\n",
        "data_mean.hist(figsize=(10,10))"
      ],
      "execution_count": null,
      "outputs": [
        {
          "output_type": "execute_result",
          "data": {
            "text/plain": [
              "array([[<matplotlib.axes._subplots.AxesSubplot object at 0x7f901c7eb350>,\n",
              "        <matplotlib.axes._subplots.AxesSubplot object at 0x7f901c78aa10>],\n",
              "       [<matplotlib.axes._subplots.AxesSubplot object at 0x7f901c6fddd0>,\n",
              "        <matplotlib.axes._subplots.AxesSubplot object at 0x7f901c7582d0>],\n",
              "       [<matplotlib.axes._subplots.AxesSubplot object at 0x7f901c6ef750>,\n",
              "        <matplotlib.axes._subplots.AxesSubplot object at 0x7f901c6a6dd0>]],\n",
              "      dtype=object)"
            ]
          },
          "metadata": {
            "tags": []
          },
          "execution_count": 4
        },
        {
          "output_type": "display_data",
          "data": {
            "image/png": "[encoded data removed]",
            "text/plain": [
              "<Figure size 720x720 with 6 Axes>"
            ]
          },
          "metadata": {
            "tags": [],
            "needs_background": "light"
          }
        }
      ]
    },
    {
      "cell_type": "markdown",
      "metadata": {
        "id": "LnDwtIVfg0jA"
      },
      "source": [
        "## Data processing"
      ]
    },
    {
      "cell_type": "code",
      "metadata": {
        "id": "dcKi1voce6iz"
      },
      "source": [
        "# Transform category data\n",
        "data.model=data.model.astype('category')\n",
        "data['Model']=data.model.cat.codes\n",
        "data.drop('model', axis=1, inplace=True)"
      ],
      "execution_count": null,
      "outputs": []
    },
    {
      "cell_type": "code",
      "metadata": {
        "id": "QzCUhQ-dfssw"
      },
      "source": [
        "data.year=data.year.astype('category')\n",
        "data['Year']=data.year.cat.codes\n",
        "data.drop('year', axis=1, inplace=True)"
      ],
      "execution_count": null,
      "outputs": []
    },
    {
      "cell_type": "code",
      "metadata": {
        "id": "bgkBcJ9ZgVDB"
      },
      "source": [
        "data.transmission=data.transmission.astype('category')\n",
        "data['Trans']=data.transmission.cat.codes\n",
        "data.drop('transmission', axis=1, inplace=True)"
      ],
      "execution_count": null,
      "outputs": []
    },
    {
      "cell_type": "code",
      "metadata": {
        "id": "LMmXgNruggeW"
      },
      "source": [
        "data.fuelType=data.fuelType.astype('category')\n",
        "data['Fuel']=data.fuelType.cat.codes\n",
        "data.drop('fuelType', axis=1, inplace=True)"
      ],
      "execution_count": null,
      "outputs": []
    },
    {
      "cell_type": "code",
      "metadata": {
        "colab": {
          "base_uri": "https://localhost:8080/",
          "height": 195
        },
        "id": "bkkrKTkFgqWn",
        "outputId": "0b1958c0-3665-41e1-ab1c-adacd1500f5d"
      },
      "source": [
        "data.head()"
      ],
      "execution_count": null,
      "outputs": [
        {
          "output_type": "execute_result",
          "data": {
            "text/html": [
              "<div>\n",
              "<style scoped>\n",
              "    .dataframe tbody tr th:only-of-type {\n",
              "        vertical-align: middle;\n",
              "    }\n",
              "\n",
              "    .dataframe tbody tr th {\n",
              "        vertical-align: top;\n",
              "    }\n",
              "\n",
              "    .dataframe thead th {\n",
              "        text-align: right;\n",
              "    }\n",
              "</style>\n",
              "<table border=\"1\" class=\"dataframe\">\n",
              "  <thead>\n",
              "    <tr style=\"text-align: right;\">\n",
              "      <th></th>\n",
              "      <th>price</th>\n",
              "      <th>mileage</th>\n",
              "      <th>tax</th>\n",
              "      <th>mpg</th>\n",
              "      <th>engineSize</th>\n",
              "      <th>Model</th>\n",
              "      <th>Year</th>\n",
              "      <th>Trans</th>\n",
              "      <th>Fuel</th>\n",
              "    </tr>\n",
              "  </thead>\n",
              "  <tbody>\n",
              "    <tr>\n",
              "      <th>0</th>\n",
              "      <td>16000</td>\n",
              "      <td>24089</td>\n",
              "      <td>265</td>\n",
              "      <td>36.2</td>\n",
              "      <td>2.0</td>\n",
              "      <td>6</td>\n",
              "      <td>18</td>\n",
              "      <td>1</td>\n",
              "      <td>3</td>\n",
              "    </tr>\n",
              "    <tr>\n",
              "      <th>1</th>\n",
              "      <td>15995</td>\n",
              "      <td>18615</td>\n",
              "      <td>145</td>\n",
              "      <td>36.2</td>\n",
              "      <td>2.0</td>\n",
              "      <td>6</td>\n",
              "      <td>19</td>\n",
              "      <td>1</td>\n",
              "      <td>3</td>\n",
              "    </tr>\n",
              "    <tr>\n",
              "      <th>2</th>\n",
              "      <td>13998</td>\n",
              "      <td>27469</td>\n",
              "      <td>265</td>\n",
              "      <td>36.2</td>\n",
              "      <td>2.0</td>\n",
              "      <td>6</td>\n",
              "      <td>17</td>\n",
              "      <td>1</td>\n",
              "      <td>3</td>\n",
              "    </tr>\n",
              "    <tr>\n",
              "      <th>3</th>\n",
              "      <td>18998</td>\n",
              "      <td>14736</td>\n",
              "      <td>150</td>\n",
              "      <td>36.2</td>\n",
              "      <td>2.0</td>\n",
              "      <td>6</td>\n",
              "      <td>19</td>\n",
              "      <td>1</td>\n",
              "      <td>3</td>\n",
              "    </tr>\n",
              "    <tr>\n",
              "      <th>4</th>\n",
              "      <td>17498</td>\n",
              "      <td>36284</td>\n",
              "      <td>145</td>\n",
              "      <td>36.2</td>\n",
              "      <td>2.0</td>\n",
              "      <td>6</td>\n",
              "      <td>19</td>\n",
              "      <td>1</td>\n",
              "      <td>3</td>\n",
              "    </tr>\n",
              "  </tbody>\n",
              "</table>\n",
              "</div>"
            ],
            "text/plain": [
              "   price  mileage  tax   mpg  engineSize  Model  Year  Trans  Fuel\n",
              "0  16000    24089  265  36.2         2.0      6    18      1     3\n",
              "1  15995    18615  145  36.2         2.0      6    19      1     3\n",
              "2  13998    27469  265  36.2         2.0      6    17      1     3\n",
              "3  18998    14736  150  36.2         2.0      6    19      1     3\n",
              "4  17498    36284  145  36.2         2.0      6    19      1     3"
            ]
          },
          "metadata": {
            "tags": []
          },
          "execution_count": 9
        }
      ]
    },
    {
      "cell_type": "code",
      "metadata": {
        "id": "r3eRpW_Zgr4r"
      },
      "source": [
        "# data split and scale\n",
        "from sklearn.model_selection import train_test_split\n",
        "from sklearn.preprocessing import StandardScaler"
      ],
      "execution_count": null,
      "outputs": []
    },
    {
      "cell_type": "code",
      "metadata": {
        "id": "_8ilDxzxiEJM"
      },
      "source": [
        "data_train, data_test= train_test_split(data, test_size=0.2, random_state=100)"
      ],
      "execution_count": null,
      "outputs": []
    },
    {
      "cell_type": "code",
      "metadata": {
        "colab": {
          "base_uri": "https://localhost:8080/",
          "height": 195
        },
        "id": "SaH2RSHfyc-7",
        "outputId": "b7904268-2411-47e5-ecb6-db5fa41a10fb"
      },
      "source": [
        "data_train.head()"
      ],
      "execution_count": null,
      "outputs": [
        {
          "output_type": "execute_result",
          "data": {
            "text/html": [
              "<div>\n",
              "<style scoped>\n",
              "    .dataframe tbody tr th:only-of-type {\n",
              "        vertical-align: middle;\n",
              "    }\n",
              "\n",
              "    .dataframe tbody tr th {\n",
              "        vertical-align: top;\n",
              "    }\n",
              "\n",
              "    .dataframe thead th {\n",
              "        text-align: right;\n",
              "    }\n",
              "</style>\n",
              "<table border=\"1\" class=\"dataframe\">\n",
              "  <thead>\n",
              "    <tr style=\"text-align: right;\">\n",
              "      <th></th>\n",
              "      <th>price</th>\n",
              "      <th>mileage</th>\n",
              "      <th>tax</th>\n",
              "      <th>mpg</th>\n",
              "      <th>engineSize</th>\n",
              "      <th>Model</th>\n",
              "      <th>Year</th>\n",
              "      <th>Trans</th>\n",
              "      <th>Fuel</th>\n",
              "    </tr>\n",
              "  </thead>\n",
              "  <tbody>\n",
              "    <tr>\n",
              "      <th>3198</th>\n",
              "      <td>16791</td>\n",
              "      <td>29201</td>\n",
              "      <td>0</td>\n",
              "      <td>72.4</td>\n",
              "      <td>1.8</td>\n",
              "      <td>0</td>\n",
              "      <td>19</td>\n",
              "      <td>0</td>\n",
              "      <td>1</td>\n",
              "    </tr>\n",
              "    <tr>\n",
              "      <th>2935</th>\n",
              "      <td>12250</td>\n",
              "      <td>50920</td>\n",
              "      <td>0</td>\n",
              "      <td>76.4</td>\n",
              "      <td>1.8</td>\n",
              "      <td>0</td>\n",
              "      <td>17</td>\n",
              "      <td>0</td>\n",
              "      <td>1</td>\n",
              "    </tr>\n",
              "    <tr>\n",
              "      <th>4512</th>\n",
              "      <td>6950</td>\n",
              "      <td>43298</td>\n",
              "      <td>0</td>\n",
              "      <td>69.0</td>\n",
              "      <td>1.0</td>\n",
              "      <td>2</td>\n",
              "      <td>18</td>\n",
              "      <td>1</td>\n",
              "      <td>3</td>\n",
              "    </tr>\n",
              "    <tr>\n",
              "      <th>1348</th>\n",
              "      <td>10990</td>\n",
              "      <td>12012</td>\n",
              "      <td>145</td>\n",
              "      <td>47.9</td>\n",
              "      <td>1.5</td>\n",
              "      <td>17</td>\n",
              "      <td>21</td>\n",
              "      <td>1</td>\n",
              "      <td>3</td>\n",
              "    </tr>\n",
              "    <tr>\n",
              "      <th>1664</th>\n",
              "      <td>7600</td>\n",
              "      <td>70167</td>\n",
              "      <td>145</td>\n",
              "      <td>58.9</td>\n",
              "      <td>1.5</td>\n",
              "      <td>17</td>\n",
              "      <td>20</td>\n",
              "      <td>1</td>\n",
              "      <td>3</td>\n",
              "    </tr>\n",
              "  </tbody>\n",
              "</table>\n",
              "</div>"
            ],
            "text/plain": [
              "      price  mileage  tax   mpg  engineSize  Model  Year  Trans  Fuel\n",
              "3198  16791    29201    0  72.4         1.8      0    19      0     1\n",
              "2935  12250    50920    0  76.4         1.8      0    17      0     1\n",
              "4512   6950    43298    0  69.0         1.0      2    18      1     3\n",
              "1348  10990    12012  145  47.9         1.5     17    21      1     3\n",
              "1664   7600    70167  145  58.9         1.5     17    20      1     3"
            ]
          },
          "metadata": {
            "tags": []
          },
          "execution_count": 12
        }
      ]
    },
    {
      "cell_type": "code",
      "metadata": {
        "colab": {
          "base_uri": "https://localhost:8080/",
          "height": 195
        },
        "id": "mfukhvyofuDC",
        "outputId": "e0a4f61d-d1fc-437b-bba4-9069a63755ac"
      },
      "source": [
        "# Standard scale\n",
        "std = StandardScaler()\n",
        "X_train = std.fit_transform(data_train)\n",
        "X_train = pd.DataFrame(X_train, columns = data_train.columns)\n",
        "X_train.head()"
      ],
      "execution_count": null,
      "outputs": [
        {
          "output_type": "execute_result",
          "data": {
            "text/html": [
              "<div>\n",
              "<style scoped>\n",
              "    .dataframe tbody tr th:only-of-type {\n",
              "        vertical-align: middle;\n",
              "    }\n",
              "\n",
              "    .dataframe tbody tr th {\n",
              "        vertical-align: top;\n",
              "    }\n",
              "\n",
              "    .dataframe thead th {\n",
              "        text-align: right;\n",
              "    }\n",
              "</style>\n",
              "<table border=\"1\" class=\"dataframe\">\n",
              "  <thead>\n",
              "    <tr style=\"text-align: right;\">\n",
              "      <th></th>\n",
              "      <th>price</th>\n",
              "      <th>mileage</th>\n",
              "      <th>tax</th>\n",
              "      <th>mpg</th>\n",
              "      <th>engineSize</th>\n",
              "      <th>Model</th>\n",
              "      <th>Year</th>\n",
              "      <th>Trans</th>\n",
              "      <th>Fuel</th>\n",
              "    </tr>\n",
              "  </thead>\n",
              "  <tbody>\n",
              "    <tr>\n",
              "      <th>0</th>\n",
              "      <td>0.681553</td>\n",
              "      <td>0.330222</td>\n",
              "      <td>-1.279468</td>\n",
              "      <td>0.580143</td>\n",
              "      <td>0.755606</td>\n",
              "      <td>-1.168929</td>\n",
              "      <td>0.116353</td>\n",
              "      <td>-1.022095</td>\n",
              "      <td>-1.057166</td>\n",
              "    </tr>\n",
              "    <tr>\n",
              "      <th>1</th>\n",
              "      <td>-0.039616</td>\n",
              "      <td>1.467644</td>\n",
              "      <td>-1.279468</td>\n",
              "      <td>0.828314</td>\n",
              "      <td>0.755606</td>\n",
              "      <td>-1.168929</td>\n",
              "      <td>-0.777010</td>\n",
              "      <td>-1.022095</td>\n",
              "      <td>-1.057166</td>\n",
              "    </tr>\n",
              "    <tr>\n",
              "      <th>2</th>\n",
              "      <td>-0.881324</td>\n",
              "      <td>1.068480</td>\n",
              "      <td>-1.279468</td>\n",
              "      <td>0.369197</td>\n",
              "      <td>-1.082573</td>\n",
              "      <td>-0.880331</td>\n",
              "      <td>-0.330329</td>\n",
              "      <td>0.470479</td>\n",
              "      <td>0.777684</td>\n",
              "    </tr>\n",
              "    <tr>\n",
              "      <th>3</th>\n",
              "      <td>-0.239720</td>\n",
              "      <td>-0.569965</td>\n",
              "      <td>0.676384</td>\n",
              "      <td>-0.939909</td>\n",
              "      <td>0.066289</td>\n",
              "      <td>1.284154</td>\n",
              "      <td>1.009715</td>\n",
              "      <td>0.470479</td>\n",
              "      <td>0.777684</td>\n",
              "    </tr>\n",
              "    <tr>\n",
              "      <th>4</th>\n",
              "      <td>-0.778095</td>\n",
              "      <td>2.475608</td>\n",
              "      <td>0.676384</td>\n",
              "      <td>-0.257437</td>\n",
              "      <td>0.066289</td>\n",
              "      <td>1.284154</td>\n",
              "      <td>0.563034</td>\n",
              "      <td>0.470479</td>\n",
              "      <td>0.777684</td>\n",
              "    </tr>\n",
              "  </tbody>\n",
              "</table>\n",
              "</div>"
            ],
            "text/plain": [
              "      price   mileage       tax  ...      Year     Trans      Fuel\n",
              "0  0.681553  0.330222 -1.279468  ...  0.116353 -1.022095 -1.057166\n",
              "1 -0.039616  1.467644 -1.279468  ... -0.777010 -1.022095 -1.057166\n",
              "2 -0.881324  1.068480 -1.279468  ... -0.330329  0.470479  0.777684\n",
              "3 -0.239720 -0.569965  0.676384  ...  1.009715  0.470479  0.777684\n",
              "4 -0.778095  2.475608  0.676384  ...  0.563034  0.470479  0.777684\n",
              "\n",
              "[5 rows x 9 columns]"
            ]
          },
          "metadata": {
            "tags": []
          },
          "execution_count": 13
        }
      ]
    },
    {
      "cell_type": "code",
      "metadata": {
        "colab": {
          "base_uri": "https://localhost:8080/",
          "height": 884
        },
        "id": "IrtJwRGCeQgY",
        "outputId": "932353bb-4386-4838-8248-f3df15691c31"
      },
      "source": [
        "#histogram for all numneric features\n",
        "X_train.plot(kind = 'hist' , subplots = True, color ='#1f77b4', layout = (3,3), figsize = (15, 12), grid =True, title = ['price', 'mileage', 'tax', 'mpg', 'engineSize', 'Model', 'Year',\n",
        "       'Trans', 'Fuel'])"
      ],
      "execution_count": null,
      "outputs": [
        {
          "output_type": "execute_result",
          "data": {
            "text/plain": [
              "array([[<matplotlib.axes._subplots.AxesSubplot object at 0x7f900ce752d0>,\n",
              "        <matplotlib.axes._subplots.AxesSubplot object at 0x7f900cc11b10>,\n",
              "        <matplotlib.axes._subplots.AxesSubplot object at 0x7f900cbe2d10>],\n",
              "       [<matplotlib.axes._subplots.AxesSubplot object at 0x7f900cb96750>,\n",
              "        <matplotlib.axes._subplots.AxesSubplot object at 0x7f900cb4eb10>,\n",
              "        <matplotlib.axes._subplots.AxesSubplot object at 0x7f900cb07ed0>],\n",
              "       [<matplotlib.axes._subplots.AxesSubplot object at 0x7f900cacc350>,\n",
              "        <matplotlib.axes._subplots.AxesSubplot object at 0x7f900cb6a450>,\n",
              "        <matplotlib.axes._subplots.AxesSubplot object at 0x7f900cb6a050>]],\n",
              "      dtype=object)"
            ]
          },
          "metadata": {
            "tags": []
          },
          "execution_count": 14
        },
        {
          "output_type": "display_data",
          "data": {
            "image/png": "[encoded data removed]",
            "text/plain": [
              "<Figure size 1080x864 with 9 Axes>"
            ]
          },
          "metadata": {
            "tags": [],
            "needs_background": "light"
          }
        }
      ]
    },
    {
      "cell_type": "code",
      "metadata": {
        "colab": {
          "base_uri": "https://localhost:8080/",
          "height": 884
        },
        "id": "tN6m776ihheD",
        "outputId": "da9415be-9eba-41fb-a3f5-786f1eba6b34"
      },
      "source": [
        "#kde for standard scaler\n",
        "X_train.plot(kind = 'kde' , subplots = True, layout = (3,3), figsize = (15, 12), title = ['price', 'mileage', 'tax', 'mpg', 'engineSize', 'Model', 'Year',\n",
        "       'Trans', 'Fuel'])"
      ],
      "execution_count": null,
      "outputs": [
        {
          "output_type": "execute_result",
          "data": {
            "text/plain": [
              "array([[<matplotlib.axes._subplots.AxesSubplot object at 0x7f900cbe2b10>,\n",
              "        <matplotlib.axes._subplots.AxesSubplot object at 0x7f900c7109d0>,\n",
              "        <matplotlib.axes._subplots.AxesSubplot object at 0x7f900cbe2910>],\n",
              "       [<matplotlib.axes._subplots.AxesSubplot object at 0x7f900c670ad0>,\n",
              "        <matplotlib.axes._subplots.AxesSubplot object at 0x7f900c626ed0>,\n",
              "        <matplotlib.axes._subplots.AxesSubplot object at 0x7f900c5e6310>],\n",
              "       [<matplotlib.axes._subplots.AxesSubplot object at 0x7f900c61c790>,\n",
              "        <matplotlib.axes._subplots.AxesSubplot object at 0x7f900c5d3ad0>,\n",
              "        <matplotlib.axes._subplots.AxesSubplot object at 0x7f900c5d3b10>]],\n",
              "      dtype=object)"
            ]
          },
          "metadata": {
            "tags": []
          },
          "execution_count": 15
        },
        {
          "output_type": "display_data",
          "data": {
            "image/png": "[encoded data removed]",
            "text/plain": [
              "<Figure size 1080x864 with 9 Axes>"
            ]
          },
          "metadata": {
            "tags": [],
            "needs_background": "light"
          }
        }
      ]
    },
    {
      "cell_type": "code",
      "metadata": {
        "id": "HUcy-_rxkPYj"
      },
      "source": [
        "y_train= X_train.pop('price')"
      ],
      "execution_count": null,
      "outputs": []
    },
    {
      "cell_type": "code",
      "metadata": {
        "colab": {
          "base_uri": "https://localhost:8080/",
          "height": 195
        },
        "id": "2cytEQ9DqrGx",
        "outputId": "eae5e0c9-c418-4567-8cba-c2338a36aef2"
      },
      "source": [
        "# process test data with same scale\n",
        "X_test = std.transform(data_test)\n",
        "X_test = pd.DataFrame(X_test, columns = data_test.columns)\n",
        "X_test.head()"
      ],
      "execution_count": null,
      "outputs": [
        {
          "output_type": "execute_result",
          "data": {
            "text/html": [
              "<div>\n",
              "<style scoped>\n",
              "    .dataframe tbody tr th:only-of-type {\n",
              "        vertical-align: middle;\n",
              "    }\n",
              "\n",
              "    .dataframe tbody tr th {\n",
              "        vertical-align: top;\n",
              "    }\n",
              "\n",
              "    .dataframe thead th {\n",
              "        text-align: right;\n",
              "    }\n",
              "</style>\n",
              "<table border=\"1\" class=\"dataframe\">\n",
              "  <thead>\n",
              "    <tr style=\"text-align: right;\">\n",
              "      <th></th>\n",
              "      <th>price</th>\n",
              "      <th>mileage</th>\n",
              "      <th>tax</th>\n",
              "      <th>mpg</th>\n",
              "      <th>engineSize</th>\n",
              "      <th>Model</th>\n",
              "      <th>Year</th>\n",
              "      <th>Trans</th>\n",
              "      <th>Fuel</th>\n",
              "    </tr>\n",
              "  </thead>\n",
              "  <tbody>\n",
              "    <tr>\n",
              "      <th>0</th>\n",
              "      <td>-0.317538</td>\n",
              "      <td>-0.728384</td>\n",
              "      <td>-0.874809</td>\n",
              "      <td>-0.499404</td>\n",
              "      <td>-0.393256</td>\n",
              "      <td>1.284154</td>\n",
              "      <td>0.116353</td>\n",
              "      <td>0.470479</td>\n",
              "      <td>0.777684</td>\n",
              "    </tr>\n",
              "    <tr>\n",
              "      <th>1</th>\n",
              "      <td>-0.079636</td>\n",
              "      <td>0.736612</td>\n",
              "      <td>0.676384</td>\n",
              "      <td>-0.989543</td>\n",
              "      <td>0.755606</td>\n",
              "      <td>-1.024630</td>\n",
              "      <td>0.116353</td>\n",
              "      <td>0.470479</td>\n",
              "      <td>0.777684</td>\n",
              "    </tr>\n",
              "    <tr>\n",
              "      <th>2</th>\n",
              "      <td>-0.913086</td>\n",
              "      <td>0.143680</td>\n",
              "      <td>0.676384</td>\n",
              "      <td>0.369197</td>\n",
              "      <td>-1.082573</td>\n",
              "      <td>-0.880331</td>\n",
              "      <td>0.116353</td>\n",
              "      <td>0.470479</td>\n",
              "      <td>0.777684</td>\n",
              "    </tr>\n",
              "    <tr>\n",
              "      <th>3</th>\n",
              "      <td>0.365357</td>\n",
              "      <td>0.580969</td>\n",
              "      <td>0.946156</td>\n",
              "      <td>-1.212898</td>\n",
              "      <td>0.755606</td>\n",
              "      <td>0.995556</td>\n",
              "      <td>0.116353</td>\n",
              "      <td>-1.022095</td>\n",
              "      <td>-0.139741</td>\n",
              "    </tr>\n",
              "    <tr>\n",
              "      <th>4</th>\n",
              "      <td>-0.239720</td>\n",
              "      <td>-0.110314</td>\n",
              "      <td>0.676384</td>\n",
              "      <td>-0.406340</td>\n",
              "      <td>0.066289</td>\n",
              "      <td>1.284154</td>\n",
              "      <td>0.563034</td>\n",
              "      <td>0.470479</td>\n",
              "      <td>0.777684</td>\n",
              "    </tr>\n",
              "  </tbody>\n",
              "</table>\n",
              "</div>"
            ],
            "text/plain": [
              "      price   mileage       tax  ...      Year     Trans      Fuel\n",
              "0 -0.317538 -0.728384 -0.874809  ...  0.116353  0.470479  0.777684\n",
              "1 -0.079636  0.736612  0.676384  ...  0.116353  0.470479  0.777684\n",
              "2 -0.913086  0.143680  0.676384  ...  0.116353  0.470479  0.777684\n",
              "3  0.365357  0.580969  0.946156  ...  0.116353 -1.022095 -0.139741\n",
              "4 -0.239720 -0.110314  0.676384  ...  0.563034  0.470479  0.777684\n",
              "\n",
              "[5 rows x 9 columns]"
            ]
          },
          "metadata": {
            "tags": []
          },
          "execution_count": 17
        }
      ]
    },
    {
      "cell_type": "code",
      "metadata": {
        "id": "4XXnKI2vrM7q"
      },
      "source": [
        "y_test= X_test.pop('price')"
      ],
      "execution_count": null,
      "outputs": []
    },
    {
      "cell_type": "code",
      "metadata": {
        "colab": {
          "base_uri": "https://localhost:8080/"
        },
        "id": "EQ8j6MfHrPtJ",
        "outputId": "396a0679-2eb1-42be-92ec-7fe81d9211ee"
      },
      "source": [
        "size={\n",
        "    \"X_test\": X_test.shape,\n",
        "    \"X_train\": X_train.shape,\n",
        "    \"y_test\": y_test.shape,\n",
        "    \"y_train\": y_train.shape\n",
        "}\n",
        "print(size)"
      ],
      "execution_count": null,
      "outputs": [
        {
          "output_type": "stream",
          "text": [
            "{'X_test': (1348, 8), 'X_train': (5390, 8), 'y_test': (1348,), 'y_train': (5390,)}\n"
          ],
          "name": "stdout"
        }
      ]
    },
    {
      "cell_type": "markdown",
      "metadata": {
        "id": "DDTdnArU6Ej-"
      },
      "source": [
        "## Feature Selection"
      ]
    },
    {
      "cell_type": "code",
      "metadata": {
        "id": "6mkRD5h16Doc"
      },
      "source": [
        "# run linear model to select best k features\n",
        "from sklearn.feature_selection import SelectKBest, f_regression\n",
        "from sklearn.linear_model import LinearRegression\n",
        "import seaborn as sns"
      ],
      "execution_count": null,
      "outputs": []
    },
    {
      "cell_type": "code",
      "metadata": {
        "colab": {
          "base_uri": "https://localhost:8080/",
          "height": 282
        },
        "id": "zUhrQxtT-tFr",
        "outputId": "6686e310-2c53-4201-db71-00356d8156e7"
      },
      "source": [
        "no_of_features = []\n",
        "r_squared_train = []\n",
        "r_squared_test = []\n",
        "\n",
        "# We iterate all number of features\n",
        "for k in range(1, 9):\n",
        "    selector = SelectKBest(f_regression, k = k)\n",
        "    \n",
        "    # Our transformed sets with the k-best features\n",
        "    X_train_transformed = selector.fit_transform(X_train, y_train)\n",
        "    X_test_transformed = selector.transform(X_test)\n",
        "\n",
        "    # We train a basic regression model on those transformed sets\n",
        "    regressor = LinearRegression()\n",
        "    regressor.fit(X_train_transformed, y_train)\n",
        "\n",
        "    no_of_features.append(k)\n",
        "    r_squared_train.append(regressor.score(X_train_transformed, y_train))\n",
        "    r_squared_test.append(regressor.score(X_test_transformed, y_test))\n",
        "    \n",
        "sns.lineplot(x = no_of_features, y = r_squared_train, legend = 'full')\n",
        "sns.lineplot(x = no_of_features, y = r_squared_test, legend = 'full')"
      ],
      "execution_count": null,
      "outputs": [
        {
          "output_type": "execute_result",
          "data": {
            "text/plain": [
              "<matplotlib.axes._subplots.AxesSubplot at 0x7f900c799fd0>"
            ]
          },
          "metadata": {
            "tags": []
          },
          "execution_count": 21
        },
        {
          "output_type": "display_data",
          "data": {
            "image/png": "[encoded data removed]",
            "text/plain": [
              "<Figure size 432x288 with 1 Axes>"
            ]
          },
          "metadata": {
            "tags": [],
            "needs_background": "light"
          }
        }
      ]
    },
    {
      "cell_type": "code",
      "metadata": {
        "colab": {
          "base_uri": "https://localhost:8080/"
        },
        "id": "E5ou5CHiHhbF",
        "outputId": "9d3c426d-b4d7-42b8-9a75-1b8755f008cb"
      },
      "source": [
        "for n_features in range(1, 9):\n",
        "  index_reasonable= no_of_features.index(n_features)\n",
        "  score= r_squared_test[index_reasonable]\n",
        "  print(\"--\",n_features, score)"
      ],
      "execution_count": null,
      "outputs": [
        {
          "output_type": "stream",
          "text": [
            "-- 1 0.5377895706992724\n",
            "-- 2 0.5374048168029788\n",
            "-- 3 0.7363852824252307\n",
            "-- 4 0.7391895741610132\n",
            "-- 5 0.7665190311295926\n",
            "-- 6 0.7671179153618125\n",
            "-- 7 0.7678253892662897\n",
            "-- 8 0.7843143929148155\n"
          ],
          "name": "stdout"
        }
      ]
    },
    {
      "cell_type": "markdown",
      "metadata": {
        "id": "AIVJaKr1A0Nf"
      },
      "source": [
        "From figure and data above, it seems selecting 5 best features is reasonable "
      ]
    },
    {
      "cell_type": "code",
      "metadata": {
        "colab": {
          "base_uri": "https://localhost:8080/"
        },
        "id": "diTrnEBoH1Dy",
        "outputId": "ee806845-7340-4444-d1ee-84d5b33b5f73"
      },
      "source": [
        "selector = SelectKBest(f_regression, k = 5)\n",
        "\n",
        "# Transformed sets\n",
        "X_train_transformed = selector.fit_transform(X_train, y_train)\n",
        "X_test_transformed = selector.transform(X_test)\n",
        "\n",
        "# Names of best features\n",
        "column_names = X_train.columns\n",
        "kbest_features = list(column_names[selector.get_support()])\n",
        "kbest_features"
      ],
      "execution_count": null,
      "outputs": [
        {
          "output_type": "execute_result",
          "data": {
            "text/plain": [
              "['mileage', 'engineSize', 'Year', 'Trans', 'Fuel']"
            ]
          },
          "metadata": {
            "tags": []
          },
          "execution_count": 23
        }
      ]
    },
    {
      "cell_type": "markdown",
      "metadata": {
        "id": "NB5GLKMKMAR2"
      },
      "source": [
        "## Models"
      ]
    },
    {
      "cell_type": "code",
      "metadata": {
        "id": "CP_90i9VL8oA"
      },
      "source": [
        "## Model building\n",
        "Results=pd.DataFrame(index=['MSE','R2'])"
      ],
      "execution_count": null,
      "outputs": []
    },
    {
      "cell_type": "code",
      "metadata": {
        "id": "Jn9tU2ITNzkP"
      },
      "source": [
        "# Linear\n",
        "from sklearn import linear_model\n",
        "from sklearn.metrics import mean_squared_error as MSE \n",
        "from sklearn.metrics import r2_score as r2"
      ],
      "execution_count": null,
      "outputs": []
    },
    {
      "cell_type": "code",
      "metadata": {
        "colab": {
          "base_uri": "https://localhost:8080/"
        },
        "id": "G16jBga9OCgL",
        "outputId": "ca9c98de-d18f-4876-e0f7-596e85295df0"
      },
      "source": [
        "linear = linear_model.LinearRegression()\n",
        "linear.fit(X_train, y_train) \n",
        "linear.score(X_test, y_test)"
      ],
      "execution_count": null,
      "outputs": [
        {
          "output_type": "execute_result",
          "data": {
            "text/plain": [
              "0.7843143929148155"
            ]
          },
          "metadata": {
            "tags": []
          },
          "execution_count": 26
        }
      ]
    },
    {
      "cell_type": "code",
      "metadata": {
        "colab": {
          "base_uri": "https://localhost:8080/",
          "height": 106
        },
        "id": "vuNRYvugOXMr",
        "outputId": "720dd140-a069-45c3-e115-37eb175c0f36"
      },
      "source": [
        "y_pred = linear.predict(X_test) \n",
        "Results['Linear'] = [np.sqrt(MSE(y_test, y_pred)), r2(y_test, y_pred)]\n",
        "Results"
      ],
      "execution_count": null,
      "outputs": [
        {
          "output_type": "execute_result",
          "data": {
            "text/html": [
              "<div>\n",
              "<style scoped>\n",
              "    .dataframe tbody tr th:only-of-type {\n",
              "        vertical-align: middle;\n",
              "    }\n",
              "\n",
              "    .dataframe tbody tr th {\n",
              "        vertical-align: top;\n",
              "    }\n",
              "\n",
              "    .dataframe thead th {\n",
              "        text-align: right;\n",
              "    }\n",
              "</style>\n",
              "<table border=\"1\" class=\"dataframe\">\n",
              "  <thead>\n",
              "    <tr style=\"text-align: right;\">\n",
              "      <th></th>\n",
              "      <th>Linear</th>\n",
              "    </tr>\n",
              "  </thead>\n",
              "  <tbody>\n",
              "    <tr>\n",
              "      <th>MSE</th>\n",
              "      <td>0.481734</td>\n",
              "    </tr>\n",
              "    <tr>\n",
              "      <th>R2</th>\n",
              "      <td>0.784314</td>\n",
              "    </tr>\n",
              "  </tbody>\n",
              "</table>\n",
              "</div>"
            ],
            "text/plain": [
              "       Linear\n",
              "MSE  0.481734\n",
              "R2   0.784314"
            ]
          },
          "metadata": {
            "tags": []
          },
          "execution_count": 27
        }
      ]
    },
    {
      "cell_type": "code",
      "metadata": {
        "id": "foLLXgWIR88V"
      },
      "source": [
        "# BayesianRidge\n",
        "from sklearn.linear_model import BayesianRidge"
      ],
      "execution_count": null,
      "outputs": []
    },
    {
      "cell_type": "code",
      "metadata": {
        "colab": {
          "base_uri": "https://localhost:8080/"
        },
        "id": "OLqUXmXeVXxn",
        "outputId": "037fd7d1-704c-4c9c-cd03-354a815248f0"
      },
      "source": [
        "ridge = BayesianRidge(compute_score=True)\n",
        "ridge.fit(X_train, y_train)\n",
        "ridge.score(X_test, y_test)"
      ],
      "execution_count": null,
      "outputs": [
        {
          "output_type": "execute_result",
          "data": {
            "text/plain": [
              "0.7842386026569846"
            ]
          },
          "metadata": {
            "tags": []
          },
          "execution_count": 29
        }
      ]
    },
    {
      "cell_type": "code",
      "metadata": {
        "colab": {
          "base_uri": "https://localhost:8080/",
          "height": 106
        },
        "id": "L-QtwZU_Vrwh",
        "outputId": "ab3db1e6-5b2c-472c-bed1-58eb2a98c10b"
      },
      "source": [
        "y_pred = ridge.predict(X_test) \n",
        "\n",
        "Results['Bayesian'] = [np.sqrt(MSE(y_test, y_pred)), r2(y_test, y_pred)]\n",
        "Results"
      ],
      "execution_count": null,
      "outputs": [
        {
          "output_type": "execute_result",
          "data": {
            "text/html": [
              "<div>\n",
              "<style scoped>\n",
              "    .dataframe tbody tr th:only-of-type {\n",
              "        vertical-align: middle;\n",
              "    }\n",
              "\n",
              "    .dataframe tbody tr th {\n",
              "        vertical-align: top;\n",
              "    }\n",
              "\n",
              "    .dataframe thead th {\n",
              "        text-align: right;\n",
              "    }\n",
              "</style>\n",
              "<table border=\"1\" class=\"dataframe\">\n",
              "  <thead>\n",
              "    <tr style=\"text-align: right;\">\n",
              "      <th></th>\n",
              "      <th>Linear</th>\n",
              "      <th>Bayesian</th>\n",
              "    </tr>\n",
              "  </thead>\n",
              "  <tbody>\n",
              "    <tr>\n",
              "      <th>MSE</th>\n",
              "      <td>0.481734</td>\n",
              "      <td>0.481819</td>\n",
              "    </tr>\n",
              "    <tr>\n",
              "      <th>R2</th>\n",
              "      <td>0.784314</td>\n",
              "      <td>0.784239</td>\n",
              "    </tr>\n",
              "  </tbody>\n",
              "</table>\n",
              "</div>"
            ],
            "text/plain": [
              "       Linear  Bayesian\n",
              "MSE  0.481734  0.481819\n",
              "R2   0.784314  0.784239"
            ]
          },
          "metadata": {
            "tags": []
          },
          "execution_count": 30
        }
      ]
    },
    {
      "cell_type": "code",
      "metadata": {
        "id": "1FAX5mjYWVS1"
      },
      "source": [
        "#SVR\n",
        "from sklearn.svm import SVR"
      ],
      "execution_count": null,
      "outputs": []
    },
    {
      "cell_type": "code",
      "metadata": {
        "colab": {
          "base_uri": "https://localhost:8080/"
        },
        "id": "3KNhsOtaWnAU",
        "outputId": "250c2819-3847-4afe-c306-cf45ea4c36cd"
      },
      "source": [
        "svr = SVR(kernel=\"rbf\")\n",
        "svr.fit(X_train, y_train)\n",
        "svr.score"
      ],
      "execution_count": null,
      "outputs": [
        {
          "output_type": "execute_result",
          "data": {
            "text/plain": [
              "<bound method RegressorMixin.score of SVR(C=1.0, cache_size=200, coef0=0.0, degree=3, epsilon=0.1, gamma='scale',\n",
              "    kernel='rbf', max_iter=-1, shrinking=True, tol=0.001, verbose=False)>"
            ]
          },
          "metadata": {
            "tags": []
          },
          "execution_count": 32
        }
      ]
    },
    {
      "cell_type": "code",
      "metadata": {
        "colab": {
          "base_uri": "https://localhost:8080/",
          "height": 106
        },
        "id": "fCf6VoVhXhS0",
        "outputId": "f94e5f52-607d-40cf-b272-84e0827ea803"
      },
      "source": [
        "y_pred = svr.predict(X_test) \n",
        "\n",
        "Results['SVR'] = [np.sqrt(MSE(y_test, y_pred)), r2(y_test, y_pred)]\n",
        "Results"
      ],
      "execution_count": null,
      "outputs": [
        {
          "output_type": "execute_result",
          "data": {
            "text/html": [
              "<div>\n",
              "<style scoped>\n",
              "    .dataframe tbody tr th:only-of-type {\n",
              "        vertical-align: middle;\n",
              "    }\n",
              "\n",
              "    .dataframe tbody tr th {\n",
              "        vertical-align: top;\n",
              "    }\n",
              "\n",
              "    .dataframe thead th {\n",
              "        text-align: right;\n",
              "    }\n",
              "</style>\n",
              "<table border=\"1\" class=\"dataframe\">\n",
              "  <thead>\n",
              "    <tr style=\"text-align: right;\">\n",
              "      <th></th>\n",
              "      <th>Linear</th>\n",
              "      <th>Bayesian</th>\n",
              "      <th>SVR</th>\n",
              "    </tr>\n",
              "  </thead>\n",
              "  <tbody>\n",
              "    <tr>\n",
              "      <th>MSE</th>\n",
              "      <td>0.481734</td>\n",
              "      <td>0.481819</td>\n",
              "      <td>0.249666</td>\n",
              "    </tr>\n",
              "    <tr>\n",
              "      <th>R2</th>\n",
              "      <td>0.784314</td>\n",
              "      <td>0.784239</td>\n",
              "      <td>0.942067</td>\n",
              "    </tr>\n",
              "  </tbody>\n",
              "</table>\n",
              "</div>"
            ],
            "text/plain": [
              "       Linear  Bayesian       SVR\n",
              "MSE  0.481734  0.481819  0.249666\n",
              "R2   0.784314  0.784239  0.942067"
            ]
          },
          "metadata": {
            "tags": []
          },
          "execution_count": 33
        }
      ]
    },
    {
      "cell_type": "code",
      "metadata": {
        "id": "2r733LfTYaZ5"
      },
      "source": [
        "# DecisionTree\n",
        "from sklearn.tree import DecisionTreeRegressor"
      ],
      "execution_count": null,
      "outputs": []
    },
    {
      "cell_type": "code",
      "metadata": {
        "colab": {
          "base_uri": "https://localhost:8080/"
        },
        "id": "UYlHp0e-Ytvx",
        "outputId": "66dbc44a-b257-4f6d-ca23-c86d031168a8"
      },
      "source": [
        "dtree = DecisionTreeRegressor()\n",
        "dtree.fit(X_train, y_train)\n",
        "dtree.score"
      ],
      "execution_count": null,
      "outputs": [
        {
          "output_type": "execute_result",
          "data": {
            "text/plain": [
              "<bound method RegressorMixin.score of DecisionTreeRegressor(ccp_alpha=0.0, criterion='mse', max_depth=None,\n",
              "                      max_features=None, max_leaf_nodes=None,\n",
              "                      min_impurity_decrease=0.0, min_impurity_split=None,\n",
              "                      min_samples_leaf=1, min_samples_split=2,\n",
              "                      min_weight_fraction_leaf=0.0, presort='deprecated',\n",
              "                      random_state=None, splitter='best')>"
            ]
          },
          "metadata": {
            "tags": []
          },
          "execution_count": 35
        }
      ]
    },
    {
      "cell_type": "code",
      "metadata": {
        "colab": {
          "base_uri": "https://localhost:8080/",
          "height": 106
        },
        "id": "ChQFpf_FY3QP",
        "outputId": "fca11417-651b-4fa7-af52-160126757c72"
      },
      "source": [
        "y_pred = dtree.predict(X_test) \n",
        "\n",
        "Results['DicisionTree'] = [np.sqrt(MSE(y_test, y_pred)), r2(y_test, y_pred)]\n",
        "Results"
      ],
      "execution_count": null,
      "outputs": [
        {
          "output_type": "execute_result",
          "data": {
            "text/html": [
              "<div>\n",
              "<style scoped>\n",
              "    .dataframe tbody tr th:only-of-type {\n",
              "        vertical-align: middle;\n",
              "    }\n",
              "\n",
              "    .dataframe tbody tr th {\n",
              "        vertical-align: top;\n",
              "    }\n",
              "\n",
              "    .dataframe thead th {\n",
              "        text-align: right;\n",
              "    }\n",
              "</style>\n",
              "<table border=\"1\" class=\"dataframe\">\n",
              "  <thead>\n",
              "    <tr style=\"text-align: right;\">\n",
              "      <th></th>\n",
              "      <th>Linear</th>\n",
              "      <th>Bayesian</th>\n",
              "      <th>SVR</th>\n",
              "      <th>DicisionTree</th>\n",
              "    </tr>\n",
              "  </thead>\n",
              "  <tbody>\n",
              "    <tr>\n",
              "      <th>MSE</th>\n",
              "      <td>0.481734</td>\n",
              "      <td>0.481819</td>\n",
              "      <td>0.249666</td>\n",
              "      <td>0.262555</td>\n",
              "    </tr>\n",
              "    <tr>\n",
              "      <th>R2</th>\n",
              "      <td>0.784314</td>\n",
              "      <td>0.784239</td>\n",
              "      <td>0.942067</td>\n",
              "      <td>0.935931</td>\n",
              "    </tr>\n",
              "  </tbody>\n",
              "</table>\n",
              "</div>"
            ],
            "text/plain": [
              "       Linear  Bayesian       SVR  DicisionTree\n",
              "MSE  0.481734  0.481819  0.249666      0.262555\n",
              "R2   0.784314  0.784239  0.942067      0.935931"
            ]
          },
          "metadata": {
            "tags": []
          },
          "execution_count": 36
        }
      ]
    },
    {
      "cell_type": "code",
      "metadata": {
        "id": "Hflw_ctRZAUl"
      },
      "source": [
        "# RandomForest\n",
        "from sklearn.ensemble import RandomForestRegressor"
      ],
      "execution_count": null,
      "outputs": []
    },
    {
      "cell_type": "code",
      "metadata": {
        "colab": {
          "base_uri": "https://localhost:8080/"
        },
        "id": "sCyx2V-eZKYB",
        "outputId": "e0fae40a-434b-4a71-c5b2-40bf9cf71bdb"
      },
      "source": [
        "forest = RandomForestRegressor(n_estimators=100, random_state=0)\n",
        "forest.fit(X_train, y_train)\n",
        "forest.score"
      ],
      "execution_count": null,
      "outputs": [
        {
          "output_type": "execute_result",
          "data": {
            "text/plain": [
              "<bound method RegressorMixin.score of RandomForestRegressor(bootstrap=True, ccp_alpha=0.0, criterion='mse',\n",
              "                      max_depth=None, max_features='auto', max_leaf_nodes=None,\n",
              "                      max_samples=None, min_impurity_decrease=0.0,\n",
              "                      min_impurity_split=None, min_samples_leaf=1,\n",
              "                      min_samples_split=2, min_weight_fraction_leaf=0.0,\n",
              "                      n_estimators=100, n_jobs=None, oob_score=False,\n",
              "                      random_state=0, verbose=0, warm_start=False)>"
            ]
          },
          "metadata": {
            "tags": []
          },
          "execution_count": 38
        }
      ]
    },
    {
      "cell_type": "code",
      "metadata": {
        "colab": {
          "base_uri": "https://localhost:8080/",
          "height": 106
        },
        "id": "63YQNDoNZVPK",
        "outputId": "4822cefc-5f5d-431d-a49a-4d23b37d0a5f"
      },
      "source": [
        "y_pred_f = forest.predict(X_test) \n",
        "\n",
        "Results['RandomForest'] = [np.sqrt(MSE(y_test, y_pred_f)), r2(y_test, y_pred_f)]\n",
        "Results"
      ],
      "execution_count": null,
      "outputs": [
        {
          "output_type": "execute_result",
          "data": {
            "text/html": [
              "<div>\n",
              "<style scoped>\n",
              "    .dataframe tbody tr th:only-of-type {\n",
              "        vertical-align: middle;\n",
              "    }\n",
              "\n",
              "    .dataframe tbody tr th {\n",
              "        vertical-align: top;\n",
              "    }\n",
              "\n",
              "    .dataframe thead th {\n",
              "        text-align: right;\n",
              "    }\n",
              "</style>\n",
              "<table border=\"1\" class=\"dataframe\">\n",
              "  <thead>\n",
              "    <tr style=\"text-align: right;\">\n",
              "      <th></th>\n",
              "      <th>Linear</th>\n",
              "      <th>Bayesian</th>\n",
              "      <th>SVR</th>\n",
              "      <th>DicisionTree</th>\n",
              "      <th>RandomForest</th>\n",
              "    </tr>\n",
              "  </thead>\n",
              "  <tbody>\n",
              "    <tr>\n",
              "      <th>MSE</th>\n",
              "      <td>0.481734</td>\n",
              "      <td>0.481819</td>\n",
              "      <td>0.249666</td>\n",
              "      <td>0.262555</td>\n",
              "      <td>0.208505</td>\n",
              "    </tr>\n",
              "    <tr>\n",
              "      <th>R2</th>\n",
              "      <td>0.784314</td>\n",
              "      <td>0.784239</td>\n",
              "      <td>0.942067</td>\n",
              "      <td>0.935931</td>\n",
              "      <td>0.959595</td>\n",
              "    </tr>\n",
              "  </tbody>\n",
              "</table>\n",
              "</div>"
            ],
            "text/plain": [
              "       Linear  Bayesian       SVR  DicisionTree  RandomForest\n",
              "MSE  0.481734  0.481819  0.249666      0.262555      0.208505\n",
              "R2   0.784314  0.784239  0.942067      0.935931      0.959595"
            ]
          },
          "metadata": {
            "tags": []
          },
          "execution_count": 39
        }
      ]
    },
    {
      "cell_type": "code",
      "metadata": {
        "id": "FytkMNNmb6FV"
      },
      "source": [
        "# NN model\n",
        "from tensorflow.keras.models import Sequential\n",
        "from tensorflow.keras.layers import Dense,Dropout\n",
        "from tensorflow.keras.callbacks import EarlyStopping\n",
        "\n",
        "early_stop = EarlyStopping(monitor='val_loss', mode='min', verbose=1, patience=25)"
      ],
      "execution_count": null,
      "outputs": []
    },
    {
      "cell_type": "code",
      "metadata": {
        "id": "EHWWhy7Wb9Zm"
      },
      "source": [
        "model = Sequential()\n",
        "\n",
        "model.add(Dense(38,activation='relu'))\n",
        "model.add(Dropout(0.5))\n",
        "model.add(Dense(1))\n",
        "model.compile(optimizer='adam',loss='mse')"
      ],
      "execution_count": null,
      "outputs": []
    },
    {
      "cell_type": "code",
      "metadata": {
        "colab": {
          "base_uri": "https://localhost:8080/"
        },
        "id": "l7SS1L_ScFTz",
        "outputId": "48d78ef0-89cc-441c-a7e1-70bf24300a31"
      },
      "source": [
        "model.fit(x=X_train, \n",
        "          y=y_train, \n",
        "          epochs=600,\n",
        "          validation_data=(X_test, y_test),\n",
        "          callbacks=[early_stop]\n",
        "          )"
      ],
      "execution_count": null,
      "outputs": [
        {
          "output_type": "stream",
          "text": [
            "Epoch 1/600\n",
            "169/169 [==============================] - 1s 4ms/step - loss: 1.1460 - val_loss: 0.3340\n",
            "Epoch 2/600\n",
            "169/169 [==============================] - 0s 2ms/step - loss: 0.4527 - val_loss: 0.2294\n",
            "Epoch 3/600\n",
            "169/169 [==============================] - 0s 1ms/step - loss: 0.3476 - val_loss: 0.1964\n",
            "Epoch 4/600\n",
            "169/169 [==============================] - 0s 2ms/step - loss: 0.2374 - val_loss: 0.1696\n",
            "Epoch 5/600\n",
            "169/169 [==============================] - 0s 2ms/step - loss: 0.2506 - val_loss: 0.1698\n",
            "Epoch 6/600\n",
            "169/169 [==============================] - 0s 2ms/step - loss: 0.2621 - val_loss: 0.1489\n",
            "Epoch 7/600\n",
            "169/169 [==============================] - 0s 2ms/step - loss: 0.2415 - val_loss: 0.1477\n",
            "Epoch 8/600\n",
            "169/169 [==============================] - 0s 2ms/step - loss: 0.2286 - val_loss: 0.1359\n",
            "Epoch 9/600\n",
            "169/169 [==============================] - 0s 1ms/step - loss: 0.1961 - val_loss: 0.1366\n",
            "Epoch 10/600\n",
            "169/169 [==============================] - 0s 2ms/step - loss: 0.1961 - val_loss: 0.1305\n",
            "Epoch 11/600\n",
            "169/169 [==============================] - 0s 1ms/step - loss: 0.1979 - val_loss: 0.1280\n",
            "Epoch 12/600\n",
            "169/169 [==============================] - 0s 1ms/step - loss: 0.1829 - val_loss: 0.1288\n",
            "Epoch 13/600\n",
            "169/169 [==============================] - 0s 2ms/step - loss: 0.1790 - val_loss: 0.1278\n",
            "Epoch 14/600\n",
            "169/169 [==============================] - 0s 2ms/step - loss: 0.1875 - val_loss: 0.1345\n",
            "Epoch 15/600\n",
            "169/169 [==============================] - 0s 2ms/step - loss: 0.1634 - val_loss: 0.1208\n",
            "Epoch 16/600\n",
            "169/169 [==============================] - 0s 1ms/step - loss: 0.1744 - val_loss: 0.1229\n",
            "Epoch 17/600\n",
            "169/169 [==============================] - 0s 1ms/step - loss: 0.1729 - val_loss: 0.1183\n",
            "Epoch 18/600\n",
            "169/169 [==============================] - 0s 2ms/step - loss: 0.1670 - val_loss: 0.1127\n",
            "Epoch 19/600\n",
            "169/169 [==============================] - 0s 2ms/step - loss: 0.1744 - val_loss: 0.1147\n",
            "Epoch 20/600\n",
            "169/169 [==============================] - 0s 1ms/step - loss: 0.1712 - val_loss: 0.1213\n",
            "Epoch 21/600\n",
            "169/169 [==============================] - 0s 2ms/step - loss: 0.1725 - val_loss: 0.1154\n",
            "Epoch 22/600\n",
            "169/169 [==============================] - 0s 2ms/step - loss: 0.1755 - val_loss: 0.1193\n",
            "Epoch 23/600\n",
            "169/169 [==============================] - 0s 2ms/step - loss: 0.1680 - val_loss: 0.1145\n",
            "Epoch 24/600\n",
            "169/169 [==============================] - 0s 2ms/step - loss: 0.1619 - val_loss: 0.1149\n",
            "Epoch 25/600\n",
            "169/169 [==============================] - 0s 2ms/step - loss: 0.1633 - val_loss: 0.1133\n",
            "Epoch 26/600\n",
            "169/169 [==============================] - 0s 2ms/step - loss: 0.1679 - val_loss: 0.1197\n",
            "Epoch 27/600\n",
            "169/169 [==============================] - 0s 1ms/step - loss: 0.1688 - val_loss: 0.1185\n",
            "Epoch 28/600\n",
            "169/169 [==============================] - 0s 2ms/step - loss: 0.1547 - val_loss: 0.1098\n",
            "Epoch 29/600\n",
            "169/169 [==============================] - 0s 2ms/step - loss: 0.1406 - val_loss: 0.1179\n",
            "Epoch 30/600\n",
            "169/169 [==============================] - 0s 2ms/step - loss: 0.1810 - val_loss: 0.1105\n",
            "Epoch 31/600\n",
            "169/169 [==============================] - 0s 1ms/step - loss: 0.1690 - val_loss: 0.1126\n",
            "Epoch 32/600\n",
            "169/169 [==============================] - 0s 2ms/step - loss: 0.1484 - val_loss: 0.1072\n",
            "Epoch 33/600\n",
            "169/169 [==============================] - 0s 1ms/step - loss: 0.1605 - val_loss: 0.1125\n",
            "Epoch 34/600\n",
            "169/169 [==============================] - 0s 1ms/step - loss: 0.1622 - val_loss: 0.1081\n",
            "Epoch 35/600\n",
            "169/169 [==============================] - 0s 1ms/step - loss: 0.1705 - val_loss: 0.1057\n",
            "Epoch 36/600\n",
            "169/169 [==============================] - 0s 2ms/step - loss: 0.1711 - val_loss: 0.1050\n",
            "Epoch 37/600\n",
            "169/169 [==============================] - 0s 2ms/step - loss: 0.1741 - val_loss: 0.1073\n",
            "Epoch 38/600\n",
            "169/169 [==============================] - 0s 1ms/step - loss: 0.1648 - val_loss: 0.1120\n",
            "Epoch 39/600\n",
            "169/169 [==============================] - 0s 2ms/step - loss: 0.1502 - val_loss: 0.1100\n",
            "Epoch 40/600\n",
            "169/169 [==============================] - 0s 2ms/step - loss: 0.1658 - val_loss: 0.1077\n",
            "Epoch 41/600\n",
            "169/169 [==============================] - 0s 2ms/step - loss: 0.1580 - val_loss: 0.1097\n",
            "Epoch 42/600\n",
            "169/169 [==============================] - 0s 2ms/step - loss: 0.1766 - val_loss: 0.1092\n",
            "Epoch 43/600\n",
            "169/169 [==============================] - 0s 2ms/step - loss: 0.1638 - val_loss: 0.1050\n",
            "Epoch 44/600\n",
            "169/169 [==============================] - 0s 2ms/step - loss: 0.1654 - val_loss: 0.1063\n",
            "Epoch 45/600\n",
            "169/169 [==============================] - 0s 2ms/step - loss: 0.1630 - val_loss: 0.1025\n",
            "Epoch 46/600\n",
            "169/169 [==============================] - 0s 2ms/step - loss: 0.1643 - val_loss: 0.1035\n",
            "Epoch 47/600\n",
            "169/169 [==============================] - 0s 2ms/step - loss: 0.1560 - val_loss: 0.1041\n",
            "Epoch 48/600\n",
            "169/169 [==============================] - 0s 2ms/step - loss: 0.1540 - val_loss: 0.1034\n",
            "Epoch 49/600\n",
            "169/169 [==============================] - 0s 2ms/step - loss: 0.1531 - val_loss: 0.1047\n",
            "Epoch 50/600\n",
            "169/169 [==============================] - 0s 2ms/step - loss: 0.1616 - val_loss: 0.1033\n",
            "Epoch 51/600\n",
            "169/169 [==============================] - 0s 1ms/step - loss: 0.1500 - val_loss: 0.0990\n",
            "Epoch 52/600\n",
            "169/169 [==============================] - 0s 2ms/step - loss: 0.1635 - val_loss: 0.1021\n",
            "Epoch 53/600\n",
            "169/169 [==============================] - 0s 2ms/step - loss: 0.1700 - val_loss: 0.1026\n",
            "Epoch 54/600\n",
            "169/169 [==============================] - 0s 2ms/step - loss: 0.1596 - val_loss: 0.1001\n",
            "Epoch 55/600\n",
            "169/169 [==============================] - 0s 2ms/step - loss: 0.1480 - val_loss: 0.1055\n",
            "Epoch 56/600\n",
            "169/169 [==============================] - 0s 2ms/step - loss: 0.1743 - val_loss: 0.1041\n",
            "Epoch 57/600\n",
            "169/169 [==============================] - 0s 2ms/step - loss: 0.1444 - val_loss: 0.0997\n",
            "Epoch 58/600\n",
            "169/169 [==============================] - 0s 2ms/step - loss: 0.1539 - val_loss: 0.1020\n",
            "Epoch 59/600\n",
            "169/169 [==============================] - 0s 2ms/step - loss: 0.1453 - val_loss: 0.1045\n",
            "Epoch 60/600\n",
            "169/169 [==============================] - 0s 2ms/step - loss: 0.1465 - val_loss: 0.0984\n",
            "Epoch 61/600\n",
            "169/169 [==============================] - 0s 2ms/step - loss: 0.1469 - val_loss: 0.1030\n",
            "Epoch 62/600\n",
            "169/169 [==============================] - 0s 2ms/step - loss: 0.1516 - val_loss: 0.0996\n",
            "Epoch 63/600\n",
            "169/169 [==============================] - 0s 2ms/step - loss: 0.1654 - val_loss: 0.1044\n",
            "Epoch 64/600\n",
            "169/169 [==============================] - 0s 2ms/step - loss: 0.1512 - val_loss: 0.1063\n",
            "Epoch 65/600\n",
            "169/169 [==============================] - 0s 2ms/step - loss: 0.1787 - val_loss: 0.1017\n",
            "Epoch 66/600\n",
            "169/169 [==============================] - 0s 2ms/step - loss: 0.1482 - val_loss: 0.1021\n",
            "Epoch 67/600\n",
            "169/169 [==============================] - 0s 1ms/step - loss: 0.1648 - val_loss: 0.0972\n",
            "Epoch 68/600\n",
            "169/169 [==============================] - 0s 2ms/step - loss: 0.1555 - val_loss: 0.0982\n",
            "Epoch 69/600\n",
            "169/169 [==============================] - 0s 2ms/step - loss: 0.1834 - val_loss: 0.0968\n",
            "Epoch 70/600\n",
            "169/169 [==============================] - 0s 2ms/step - loss: 0.1454 - val_loss: 0.0986\n",
            "Epoch 71/600\n",
            "169/169 [==============================] - 0s 2ms/step - loss: 0.1606 - val_loss: 0.0985\n",
            "Epoch 72/600\n",
            "169/169 [==============================] - 0s 2ms/step - loss: 0.1487 - val_loss: 0.0983\n",
            "Epoch 73/600\n",
            "169/169 [==============================] - 0s 2ms/step - loss: 0.1549 - val_loss: 0.0967\n",
            "Epoch 74/600\n",
            "169/169 [==============================] - 0s 2ms/step - loss: 0.1397 - val_loss: 0.0948\n",
            "Epoch 75/600\n",
            "169/169 [==============================] - 0s 2ms/step - loss: 0.1566 - val_loss: 0.0964\n",
            "Epoch 76/600\n",
            "169/169 [==============================] - 0s 2ms/step - loss: 0.1681 - val_loss: 0.0977\n",
            "Epoch 77/600\n",
            "169/169 [==============================] - 0s 2ms/step - loss: 0.1564 - val_loss: 0.0936\n",
            "Epoch 78/600\n",
            "169/169 [==============================] - 0s 2ms/step - loss: 0.1544 - val_loss: 0.0999\n",
            "Epoch 79/600\n",
            "169/169 [==============================] - 0s 2ms/step - loss: 0.1490 - val_loss: 0.0984\n",
            "Epoch 80/600\n",
            "169/169 [==============================] - 0s 1ms/step - loss: 0.1520 - val_loss: 0.0969\n",
            "Epoch 81/600\n",
            "169/169 [==============================] - 0s 2ms/step - loss: 0.1450 - val_loss: 0.0993\n",
            "Epoch 82/600\n",
            "169/169 [==============================] - 0s 2ms/step - loss: 0.1485 - val_loss: 0.1050\n",
            "Epoch 83/600\n",
            "169/169 [==============================] - 0s 2ms/step - loss: 0.1432 - val_loss: 0.0940\n",
            "Epoch 84/600\n",
            "169/169 [==============================] - 0s 2ms/step - loss: 0.1623 - val_loss: 0.0952\n",
            "Epoch 85/600\n",
            "169/169 [==============================] - 0s 2ms/step - loss: 0.1570 - val_loss: 0.0962\n",
            "Epoch 86/600\n",
            "169/169 [==============================] - 0s 2ms/step - loss: 0.1440 - val_loss: 0.0981\n",
            "Epoch 87/600\n",
            "169/169 [==============================] - 0s 2ms/step - loss: 0.1575 - val_loss: 0.0924\n",
            "Epoch 88/600\n",
            "169/169 [==============================] - 0s 2ms/step - loss: 0.1488 - val_loss: 0.0880\n",
            "Epoch 89/600\n",
            "169/169 [==============================] - 0s 2ms/step - loss: 0.1540 - val_loss: 0.0957\n",
            "Epoch 90/600\n",
            "169/169 [==============================] - 0s 2ms/step - loss: 0.1531 - val_loss: 0.0936\n",
            "Epoch 91/600\n",
            "169/169 [==============================] - 0s 1ms/step - loss: 0.1543 - val_loss: 0.0981\n",
            "Epoch 92/600\n",
            "169/169 [==============================] - 0s 2ms/step - loss: 0.1473 - val_loss: 0.0952\n",
            "Epoch 93/600\n",
            "169/169 [==============================] - 0s 2ms/step - loss: 0.1463 - val_loss: 0.0905\n",
            "Epoch 94/600\n",
            "169/169 [==============================] - 0s 2ms/step - loss: 0.1507 - val_loss: 0.0929\n",
            "Epoch 95/600\n",
            "169/169 [==============================] - 0s 2ms/step - loss: 0.1467 - val_loss: 0.0910\n",
            "Epoch 96/600\n",
            "169/169 [==============================] - 0s 2ms/step - loss: 0.1488 - val_loss: 0.0897\n",
            "Epoch 97/600\n",
            "169/169 [==============================] - 0s 2ms/step - loss: 0.1666 - val_loss: 0.0880\n",
            "Epoch 98/600\n",
            "169/169 [==============================] - 0s 2ms/step - loss: 0.1477 - val_loss: 0.0890\n",
            "Epoch 99/600\n",
            "169/169 [==============================] - 0s 2ms/step - loss: 0.1398 - val_loss: 0.0928\n",
            "Epoch 100/600\n",
            "169/169 [==============================] - 0s 2ms/step - loss: 0.1472 - val_loss: 0.0912\n",
            "Epoch 101/600\n",
            "169/169 [==============================] - 0s 2ms/step - loss: 0.1647 - val_loss: 0.0946\n",
            "Epoch 102/600\n",
            "169/169 [==============================] - 0s 2ms/step - loss: 0.1406 - val_loss: 0.0895\n",
            "Epoch 103/600\n",
            "169/169 [==============================] - 0s 2ms/step - loss: 0.1594 - val_loss: 0.0906\n",
            "Epoch 104/600\n",
            "169/169 [==============================] - 0s 2ms/step - loss: 0.1429 - val_loss: 0.0973\n",
            "Epoch 105/600\n",
            "169/169 [==============================] - 0s 2ms/step - loss: 0.1399 - val_loss: 0.0936\n",
            "Epoch 106/600\n",
            "169/169 [==============================] - 0s 2ms/step - loss: 0.1509 - val_loss: 0.0890\n",
            "Epoch 107/600\n",
            "169/169 [==============================] - 0s 2ms/step - loss: 0.1507 - val_loss: 0.0906\n",
            "Epoch 108/600\n",
            "169/169 [==============================] - 0s 2ms/step - loss: 0.1454 - val_loss: 0.0907\n",
            "Epoch 109/600\n",
            "169/169 [==============================] - 0s 2ms/step - loss: 0.1417 - val_loss: 0.0873\n",
            "Epoch 110/600\n",
            "169/169 [==============================] - 0s 1ms/step - loss: 0.1453 - val_loss: 0.0883\n",
            "Epoch 111/600\n",
            "169/169 [==============================] - 0s 2ms/step - loss: 0.1465 - val_loss: 0.0921\n",
            "Epoch 112/600\n",
            "169/169 [==============================] - 0s 2ms/step - loss: 0.1577 - val_loss: 0.0994\n",
            "Epoch 113/600\n",
            "169/169 [==============================] - 0s 2ms/step - loss: 0.1470 - val_loss: 0.0882\n",
            "Epoch 114/600\n",
            "169/169 [==============================] - 0s 2ms/step - loss: 0.1447 - val_loss: 0.0873\n",
            "Epoch 115/600\n",
            "169/169 [==============================] - 0s 2ms/step - loss: 0.1388 - val_loss: 0.0860\n",
            "Epoch 116/600\n",
            "169/169 [==============================] - 0s 2ms/step - loss: 0.1412 - val_loss: 0.0853\n",
            "Epoch 117/600\n",
            "169/169 [==============================] - 0s 2ms/step - loss: 0.1458 - val_loss: 0.0898\n",
            "Epoch 118/600\n",
            "169/169 [==============================] - 0s 2ms/step - loss: 0.1576 - val_loss: 0.0880\n",
            "Epoch 119/600\n",
            "169/169 [==============================] - 0s 2ms/step - loss: 0.1544 - val_loss: 0.0917\n",
            "Epoch 120/600\n",
            "169/169 [==============================] - 0s 2ms/step - loss: 0.1512 - val_loss: 0.0894\n",
            "Epoch 121/600\n",
            "169/169 [==============================] - 0s 2ms/step - loss: 0.1422 - val_loss: 0.0868\n",
            "Epoch 122/600\n",
            "169/169 [==============================] - 0s 2ms/step - loss: 0.1450 - val_loss: 0.0898\n",
            "Epoch 123/600\n",
            "169/169 [==============================] - 0s 2ms/step - loss: 0.1744 - val_loss: 0.0879\n",
            "Epoch 124/600\n",
            "169/169 [==============================] - 0s 2ms/step - loss: 0.1487 - val_loss: 0.0937\n",
            "Epoch 125/600\n",
            "169/169 [==============================] - 0s 2ms/step - loss: 0.1376 - val_loss: 0.0918\n",
            "Epoch 126/600\n",
            "169/169 [==============================] - 0s 2ms/step - loss: 0.1611 - val_loss: 0.0894\n",
            "Epoch 127/600\n",
            "169/169 [==============================] - 0s 2ms/step - loss: 0.1468 - val_loss: 0.1031\n",
            "Epoch 128/600\n",
            "169/169 [==============================] - 0s 2ms/step - loss: 0.1407 - val_loss: 0.0879\n",
            "Epoch 129/600\n",
            "169/169 [==============================] - 0s 2ms/step - loss: 0.1511 - val_loss: 0.0921\n",
            "Epoch 130/600\n",
            "169/169 [==============================] - 0s 2ms/step - loss: 0.1488 - val_loss: 0.0885\n",
            "Epoch 131/600\n",
            "169/169 [==============================] - 0s 2ms/step - loss: 0.1328 - val_loss: 0.0866\n",
            "Epoch 132/600\n",
            "169/169 [==============================] - 0s 2ms/step - loss: 0.1634 - val_loss: 0.0916\n",
            "Epoch 133/600\n",
            "169/169 [==============================] - 0s 2ms/step - loss: 0.1518 - val_loss: 0.0918\n",
            "Epoch 134/600\n",
            "169/169 [==============================] - 0s 2ms/step - loss: 0.1489 - val_loss: 0.0868\n",
            "Epoch 135/600\n",
            "169/169 [==============================] - 0s 2ms/step - loss: 0.1405 - val_loss: 0.0944\n",
            "Epoch 136/600\n",
            "169/169 [==============================] - 0s 2ms/step - loss: 0.1397 - val_loss: 0.0937\n",
            "Epoch 137/600\n",
            "169/169 [==============================] - 0s 1ms/step - loss: 0.1498 - val_loss: 0.0862\n",
            "Epoch 138/600\n",
            "169/169 [==============================] - 0s 2ms/step - loss: 0.1563 - val_loss: 0.0903\n",
            "Epoch 139/600\n",
            "169/169 [==============================] - 0s 2ms/step - loss: 0.1685 - val_loss: 0.0867\n",
            "Epoch 140/600\n",
            "169/169 [==============================] - 0s 2ms/step - loss: 0.1356 - val_loss: 0.0855\n",
            "Epoch 141/600\n",
            "169/169 [==============================] - 0s 2ms/step - loss: 0.1481 - val_loss: 0.0884\n",
            "Epoch 00141: early stopping\n"
          ],
          "name": "stdout"
        },
        {
          "output_type": "execute_result",
          "data": {
            "text/plain": [
              "<tensorflow.python.keras.callbacks.History at 0x7f8fc3899cd0>"
            ]
          },
          "metadata": {
            "tags": []
          },
          "execution_count": 42
        }
      ]
    },
    {
      "cell_type": "code",
      "metadata": {
        "colab": {
          "base_uri": "https://localhost:8080/",
          "height": 106
        },
        "id": "P-_UDBbhceu_",
        "outputId": "16d9b573-4b88-4b5a-cf06-de6c7641621b"
      },
      "source": [
        "y_pred = dtree.predict(X_test) \n",
        "\n",
        "Results['NeuralNets'] = [np.sqrt(MSE(y_test, y_pred)), r2(y_test, y_pred)]\n",
        "Results"
      ],
      "execution_count": null,
      "outputs": [
        {
          "output_type": "execute_result",
          "data": {
            "text/html": [
              "<div>\n",
              "<style scoped>\n",
              "    .dataframe tbody tr th:only-of-type {\n",
              "        vertical-align: middle;\n",
              "    }\n",
              "\n",
              "    .dataframe tbody tr th {\n",
              "        vertical-align: top;\n",
              "    }\n",
              "\n",
              "    .dataframe thead th {\n",
              "        text-align: right;\n",
              "    }\n",
              "</style>\n",
              "<table border=\"1\" class=\"dataframe\">\n",
              "  <thead>\n",
              "    <tr style=\"text-align: right;\">\n",
              "      <th></th>\n",
              "      <th>Linear</th>\n",
              "      <th>Bayesian</th>\n",
              "      <th>SVR</th>\n",
              "      <th>DicisionTree</th>\n",
              "      <th>RandomForest</th>\n",
              "      <th>NeuralNets</th>\n",
              "    </tr>\n",
              "  </thead>\n",
              "  <tbody>\n",
              "    <tr>\n",
              "      <th>MSE</th>\n",
              "      <td>0.481734</td>\n",
              "      <td>0.481819</td>\n",
              "      <td>0.249666</td>\n",
              "      <td>0.262555</td>\n",
              "      <td>0.208505</td>\n",
              "      <td>0.262555</td>\n",
              "    </tr>\n",
              "    <tr>\n",
              "      <th>R2</th>\n",
              "      <td>0.784314</td>\n",
              "      <td>0.784239</td>\n",
              "      <td>0.942067</td>\n",
              "      <td>0.935931</td>\n",
              "      <td>0.959595</td>\n",
              "      <td>0.935931</td>\n",
              "    </tr>\n",
              "  </tbody>\n",
              "</table>\n",
              "</div>"
            ],
            "text/plain": [
              "       Linear  Bayesian       SVR  DicisionTree  RandomForest  NeuralNets\n",
              "MSE  0.481734  0.481819  0.249666      0.262555      0.208505    0.262555\n",
              "R2   0.784314  0.784239  0.942067      0.935931      0.959595    0.935931"
            ]
          },
          "metadata": {
            "tags": []
          },
          "execution_count": 43
        }
      ]
    },
    {
      "cell_type": "markdown",
      "metadata": {
        "id": "FXKD7giRhOa1"
      },
      "source": [
        "Random Forest shows a winner here."
      ]
    },
    {
      "cell_type": "markdown",
      "metadata": {
        "id": "tioTi_YkCUjb"
      },
      "source": [
        "## Evaluation"
      ]
    },
    {
      "cell_type": "code",
      "metadata": {
        "colab": {
          "base_uri": "https://localhost:8080/",
          "height": 404
        },
        "id": "NfrS4gA-e4v5",
        "outputId": "cd95006f-eae2-4498-c070-fbe9d10adad2"
      },
      "source": [
        "# Model result from Random Forest\n",
        "fig = plt.figure(figsize=(6,6))\n",
        "plt.scatter(y_test, y_pred_f)\n",
        "plt.title('Random Forest Results')\n",
        "plt.xlabel('Actual Price')\n",
        "plt.ylabel('Predicted Price')\n",
        "plt.axis('equal')\n",
        "plt.grid()\n",
        "plt.show()"
      ],
      "execution_count": null,
      "outputs": [
        {
          "output_type": "display_data",
          "data": {
            "image/png": "[encoded data removed]",
            "text/plain": [
              "<Figure size 432x432 with 1 Axes>"
            ]
          },
          "metadata": {
            "tags": [],
            "needs_background": "light"
          }
        }
      ]
    },
    {
      "cell_type": "code",
      "metadata": {
        "id": "ZW6cj_45VGDw"
      },
      "source": [
        "data_ori = X_test\n",
        "data_ori.insert(loc=0, column='price', value=y_test)"
      ],
      "execution_count": null,
      "outputs": []
    },
    {
      "cell_type": "code",
      "metadata": {
        "colab": {
          "base_uri": "https://localhost:8080/",
          "height": 402
        },
        "id": "HoD9pQGlXK31",
        "outputId": "03e7b4e7-db84-4050-a98e-9c34993c5ee4"
      },
      "source": [
        "data_ori"
      ],
      "execution_count": null,
      "outputs": [
        {
          "output_type": "execute_result",
          "data": {
            "text/html": [
              "<div>\n",
              "<style scoped>\n",
              "    .dataframe tbody tr th:only-of-type {\n",
              "        vertical-align: middle;\n",
              "    }\n",
              "\n",
              "    .dataframe tbody tr th {\n",
              "        vertical-align: top;\n",
              "    }\n",
              "\n",
              "    .dataframe thead th {\n",
              "        text-align: right;\n",
              "    }\n",
              "</style>\n",
              "<table border=\"1\" class=\"dataframe\">\n",
              "  <thead>\n",
              "    <tr style=\"text-align: right;\">\n",
              "      <th></th>\n",
              "      <th>price</th>\n",
              "      <th>mileage</th>\n",
              "      <th>tax</th>\n",
              "      <th>mpg</th>\n",
              "      <th>engineSize</th>\n",
              "      <th>Model</th>\n",
              "      <th>Year</th>\n",
              "      <th>Trans</th>\n",
              "      <th>Fuel</th>\n",
              "    </tr>\n",
              "  </thead>\n",
              "  <tbody>\n",
              "    <tr>\n",
              "      <th>0</th>\n",
              "      <td>-0.317538</td>\n",
              "      <td>-0.728384</td>\n",
              "      <td>-0.874809</td>\n",
              "      <td>-0.499404</td>\n",
              "      <td>-0.393256</td>\n",
              "      <td>1.284154</td>\n",
              "      <td>0.116353</td>\n",
              "      <td>0.470479</td>\n",
              "      <td>0.777684</td>\n",
              "    </tr>\n",
              "    <tr>\n",
              "      <th>1</th>\n",
              "      <td>-0.079636</td>\n",
              "      <td>0.736612</td>\n",
              "      <td>0.676384</td>\n",
              "      <td>-0.989543</td>\n",
              "      <td>0.755606</td>\n",
              "      <td>-1.024630</td>\n",
              "      <td>0.116353</td>\n",
              "      <td>0.470479</td>\n",
              "      <td>0.777684</td>\n",
              "    </tr>\n",
              "    <tr>\n",
              "      <th>2</th>\n",
              "      <td>-0.913086</td>\n",
              "      <td>0.143680</td>\n",
              "      <td>0.676384</td>\n",
              "      <td>0.369197</td>\n",
              "      <td>-1.082573</td>\n",
              "      <td>-0.880331</td>\n",
              "      <td>0.116353</td>\n",
              "      <td>0.470479</td>\n",
              "      <td>0.777684</td>\n",
              "    </tr>\n",
              "    <tr>\n",
              "      <th>3</th>\n",
              "      <td>0.365357</td>\n",
              "      <td>0.580969</td>\n",
              "      <td>0.946156</td>\n",
              "      <td>-1.212898</td>\n",
              "      <td>0.755606</td>\n",
              "      <td>0.995556</td>\n",
              "      <td>0.116353</td>\n",
              "      <td>-1.022095</td>\n",
              "      <td>-0.139741</td>\n",
              "    </tr>\n",
              "    <tr>\n",
              "      <th>4</th>\n",
              "      <td>-0.239720</td>\n",
              "      <td>-0.110314</td>\n",
              "      <td>0.676384</td>\n",
              "      <td>-0.406340</td>\n",
              "      <td>0.066289</td>\n",
              "      <td>1.284154</td>\n",
              "      <td>0.563034</td>\n",
              "      <td>0.470479</td>\n",
              "      <td>0.777684</td>\n",
              "    </tr>\n",
              "    <tr>\n",
              "      <th>...</th>\n",
              "      <td>...</td>\n",
              "      <td>...</td>\n",
              "      <td>...</td>\n",
              "      <td>...</td>\n",
              "      <td>...</td>\n",
              "      <td>...</td>\n",
              "      <td>...</td>\n",
              "      <td>...</td>\n",
              "      <td>...</td>\n",
              "    </tr>\n",
              "    <tr>\n",
              "      <th>1343</th>\n",
              "      <td>0.077906</td>\n",
              "      <td>-0.931369</td>\n",
              "      <td>0.676384</td>\n",
              "      <td>-0.939909</td>\n",
              "      <td>0.066289</td>\n",
              "      <td>1.284154</td>\n",
              "      <td>1.009715</td>\n",
              "      <td>0.470479</td>\n",
              "      <td>0.777684</td>\n",
              "    </tr>\n",
              "    <tr>\n",
              "      <th>1344</th>\n",
              "      <td>-0.381063</td>\n",
              "      <td>0.728128</td>\n",
              "      <td>-1.279468</td>\n",
              "      <td>0.927583</td>\n",
              "      <td>0.066289</td>\n",
              "      <td>1.284154</td>\n",
              "      <td>-0.777010</td>\n",
              "      <td>-1.022095</td>\n",
              "      <td>-1.057166</td>\n",
              "    </tr>\n",
              "    <tr>\n",
              "      <th>1345</th>\n",
              "      <td>-0.715047</td>\n",
              "      <td>-0.376720</td>\n",
              "      <td>0.676384</td>\n",
              "      <td>0.362992</td>\n",
              "      <td>-1.082573</td>\n",
              "      <td>-0.880331</td>\n",
              "      <td>0.563034</td>\n",
              "      <td>0.470479</td>\n",
              "      <td>0.777684</td>\n",
              "    </tr>\n",
              "    <tr>\n",
              "      <th>1346</th>\n",
              "      <td>-0.000707</td>\n",
              "      <td>0.146822</td>\n",
              "      <td>-1.279468</td>\n",
              "      <td>1.095099</td>\n",
              "      <td>0.755606</td>\n",
              "      <td>-1.168929</td>\n",
              "      <td>-0.777010</td>\n",
              "      <td>-1.022095</td>\n",
              "      <td>-1.057166</td>\n",
              "    </tr>\n",
              "    <tr>\n",
              "      <th>1347</th>\n",
              "      <td>0.043126</td>\n",
              "      <td>-0.923880</td>\n",
              "      <td>0.676384</td>\n",
              "      <td>-0.939909</td>\n",
              "      <td>0.066289</td>\n",
              "      <td>1.284154</td>\n",
              "      <td>1.009715</td>\n",
              "      <td>0.470479</td>\n",
              "      <td>0.777684</td>\n",
              "    </tr>\n",
              "  </tbody>\n",
              "</table>\n",
              "<p>1348 rows × 9 columns</p>\n",
              "</div>"
            ],
            "text/plain": [
              "         price   mileage       tax  ...      Year     Trans      Fuel\n",
              "0    -0.317538 -0.728384 -0.874809  ...  0.116353  0.470479  0.777684\n",
              "1    -0.079636  0.736612  0.676384  ...  0.116353  0.470479  0.777684\n",
              "2    -0.913086  0.143680  0.676384  ...  0.116353  0.470479  0.777684\n",
              "3     0.365357  0.580969  0.946156  ...  0.116353 -1.022095 -0.139741\n",
              "4    -0.239720 -0.110314  0.676384  ...  0.563034  0.470479  0.777684\n",
              "...        ...       ...       ...  ...       ...       ...       ...\n",
              "1343  0.077906 -0.931369  0.676384  ...  1.009715  0.470479  0.777684\n",
              "1344 -0.381063  0.728128 -1.279468  ... -0.777010 -1.022095 -1.057166\n",
              "1345 -0.715047 -0.376720  0.676384  ...  0.563034  0.470479  0.777684\n",
              "1346 -0.000707  0.146822 -1.279468  ... -0.777010 -1.022095 -1.057166\n",
              "1347  0.043126 -0.923880  0.676384  ...  1.009715  0.470479  0.777684\n",
              "\n",
              "[1348 rows x 9 columns]"
            ]
          },
          "metadata": {
            "tags": []
          },
          "execution_count": 67
        }
      ]
    },
    {
      "cell_type": "code",
      "metadata": {
        "colab": {
          "base_uri": "https://localhost:8080/",
          "height": 195
        },
        "id": "qEDTGZEZWosQ",
        "outputId": "b07933cc-a2ed-4dc2-de6d-3980e09191a5"
      },
      "source": [
        "data_original = std.inverse_transform(data_ori)\n",
        "data_original = pd.DataFrame(data_original, columns = data_ori.columns)\n",
        "data_original.head()"
      ],
      "execution_count": null,
      "outputs": [
        {
          "output_type": "execute_result",
          "data": {
            "text/html": [
              "<div>\n",
              "<style scoped>\n",
              "    .dataframe tbody tr th:only-of-type {\n",
              "        vertical-align: middle;\n",
              "    }\n",
              "\n",
              "    .dataframe tbody tr th {\n",
              "        vertical-align: top;\n",
              "    }\n",
              "\n",
              "    .dataframe thead th {\n",
              "        text-align: right;\n",
              "    }\n",
              "</style>\n",
              "<table border=\"1\" class=\"dataframe\">\n",
              "  <thead>\n",
              "    <tr style=\"text-align: right;\">\n",
              "      <th></th>\n",
              "      <th>price</th>\n",
              "      <th>mileage</th>\n",
              "      <th>tax</th>\n",
              "      <th>mpg</th>\n",
              "      <th>engineSize</th>\n",
              "      <th>Model</th>\n",
              "      <th>Year</th>\n",
              "      <th>Trans</th>\n",
              "      <th>Fuel</th>\n",
              "    </tr>\n",
              "  </thead>\n",
              "  <tbody>\n",
              "    <tr>\n",
              "      <th>0</th>\n",
              "      <td>10500.0</td>\n",
              "      <td>8987.0</td>\n",
              "      <td>30.0</td>\n",
              "      <td>55.0</td>\n",
              "      <td>1.3</td>\n",
              "      <td>17.0</td>\n",
              "      <td>19.0</td>\n",
              "      <td>1.0</td>\n",
              "      <td>3.0</td>\n",
              "    </tr>\n",
              "    <tr>\n",
              "      <th>1</th>\n",
              "      <td>11998.0</td>\n",
              "      <td>36961.0</td>\n",
              "      <td>145.0</td>\n",
              "      <td>47.1</td>\n",
              "      <td>1.8</td>\n",
              "      <td>1.0</td>\n",
              "      <td>19.0</td>\n",
              "      <td>1.0</td>\n",
              "      <td>3.0</td>\n",
              "    </tr>\n",
              "    <tr>\n",
              "      <th>2</th>\n",
              "      <td>6750.0</td>\n",
              "      <td>25639.0</td>\n",
              "      <td>145.0</td>\n",
              "      <td>69.0</td>\n",
              "      <td>1.0</td>\n",
              "      <td>2.0</td>\n",
              "      <td>19.0</td>\n",
              "      <td>1.0</td>\n",
              "      <td>3.0</td>\n",
              "    </tr>\n",
              "    <tr>\n",
              "      <th>3</th>\n",
              "      <td>14800.0</td>\n",
              "      <td>33989.0</td>\n",
              "      <td>165.0</td>\n",
              "      <td>43.5</td>\n",
              "      <td>1.8</td>\n",
              "      <td>15.0</td>\n",
              "      <td>19.0</td>\n",
              "      <td>0.0</td>\n",
              "      <td>2.0</td>\n",
              "    </tr>\n",
              "    <tr>\n",
              "      <th>4</th>\n",
              "      <td>10990.0</td>\n",
              "      <td>20789.0</td>\n",
              "      <td>145.0</td>\n",
              "      <td>56.5</td>\n",
              "      <td>1.5</td>\n",
              "      <td>17.0</td>\n",
              "      <td>20.0</td>\n",
              "      <td>1.0</td>\n",
              "      <td>3.0</td>\n",
              "    </tr>\n",
              "  </tbody>\n",
              "</table>\n",
              "</div>"
            ],
            "text/plain": [
              "     price  mileage    tax   mpg  engineSize  Model  Year  Trans  Fuel\n",
              "0  10500.0   8987.0   30.0  55.0         1.3   17.0  19.0    1.0   3.0\n",
              "1  11998.0  36961.0  145.0  47.1         1.8    1.0  19.0    1.0   3.0\n",
              "2   6750.0  25639.0  145.0  69.0         1.0    2.0  19.0    1.0   3.0\n",
              "3  14800.0  33989.0  165.0  43.5         1.8   15.0  19.0    0.0   2.0\n",
              "4  10990.0  20789.0  145.0  56.5         1.5   17.0  20.0    1.0   3.0"
            ]
          },
          "metadata": {
            "tags": []
          },
          "execution_count": 68
        }
      ]
    },
    {
      "cell_type": "code",
      "metadata": {
        "id": "WHEL87OQXTIT"
      },
      "source": [
        "data_pred = X_test\n",
        "data_pred['price']=y_pred_f"
      ],
      "execution_count": null,
      "outputs": []
    },
    {
      "cell_type": "code",
      "metadata": {
        "colab": {
          "base_uri": "https://localhost:8080/",
          "height": 195
        },
        "id": "lNM5Ta39YNWD",
        "outputId": "86d376e4-f18f-4162-a1ad-067b05f010ef"
      },
      "source": [
        "data_pred = std.inverse_transform(data_pred)\n",
        "data_pred = pd.DataFrame(data_pred, columns = data_ori.columns)\n",
        "data_pred.head()"
      ],
      "execution_count": null,
      "outputs": [
        {
          "output_type": "execute_result",
          "data": {
            "text/html": [
              "<div>\n",
              "<style scoped>\n",
              "    .dataframe tbody tr th:only-of-type {\n",
              "        vertical-align: middle;\n",
              "    }\n",
              "\n",
              "    .dataframe tbody tr th {\n",
              "        vertical-align: top;\n",
              "    }\n",
              "\n",
              "    .dataframe thead th {\n",
              "        text-align: right;\n",
              "    }\n",
              "</style>\n",
              "<table border=\"1\" class=\"dataframe\">\n",
              "  <thead>\n",
              "    <tr style=\"text-align: right;\">\n",
              "      <th></th>\n",
              "      <th>price</th>\n",
              "      <th>mileage</th>\n",
              "      <th>tax</th>\n",
              "      <th>mpg</th>\n",
              "      <th>engineSize</th>\n",
              "      <th>Model</th>\n",
              "      <th>Year</th>\n",
              "      <th>Trans</th>\n",
              "      <th>Fuel</th>\n",
              "    </tr>\n",
              "  </thead>\n",
              "  <tbody>\n",
              "    <tr>\n",
              "      <th>0</th>\n",
              "      <td>10617.473000</td>\n",
              "      <td>8987.0</td>\n",
              "      <td>30.0</td>\n",
              "      <td>55.0</td>\n",
              "      <td>1.3</td>\n",
              "      <td>17.0</td>\n",
              "      <td>19.0</td>\n",
              "      <td>1.0</td>\n",
              "      <td>3.0</td>\n",
              "    </tr>\n",
              "    <tr>\n",
              "      <th>1</th>\n",
              "      <td>12832.481750</td>\n",
              "      <td>36961.0</td>\n",
              "      <td>145.0</td>\n",
              "      <td>47.1</td>\n",
              "      <td>1.8</td>\n",
              "      <td>1.0</td>\n",
              "      <td>19.0</td>\n",
              "      <td>1.0</td>\n",
              "      <td>3.0</td>\n",
              "    </tr>\n",
              "    <tr>\n",
              "      <th>2</th>\n",
              "      <td>6634.552000</td>\n",
              "      <td>25639.0</td>\n",
              "      <td>145.0</td>\n",
              "      <td>69.0</td>\n",
              "      <td>1.0</td>\n",
              "      <td>2.0</td>\n",
              "      <td>19.0</td>\n",
              "      <td>1.0</td>\n",
              "      <td>3.0</td>\n",
              "    </tr>\n",
              "    <tr>\n",
              "      <th>3</th>\n",
              "      <td>15924.835111</td>\n",
              "      <td>33989.0</td>\n",
              "      <td>165.0</td>\n",
              "      <td>43.5</td>\n",
              "      <td>1.8</td>\n",
              "      <td>15.0</td>\n",
              "      <td>19.0</td>\n",
              "      <td>0.0</td>\n",
              "      <td>2.0</td>\n",
              "    </tr>\n",
              "    <tr>\n",
              "      <th>4</th>\n",
              "      <td>10164.396583</td>\n",
              "      <td>20789.0</td>\n",
              "      <td>145.0</td>\n",
              "      <td>56.5</td>\n",
              "      <td>1.5</td>\n",
              "      <td>17.0</td>\n",
              "      <td>20.0</td>\n",
              "      <td>1.0</td>\n",
              "      <td>3.0</td>\n",
              "    </tr>\n",
              "  </tbody>\n",
              "</table>\n",
              "</div>"
            ],
            "text/plain": [
              "          price  mileage    tax   mpg  engineSize  Model  Year  Trans  Fuel\n",
              "0  10617.473000   8987.0   30.0  55.0         1.3   17.0  19.0    1.0   3.0\n",
              "1  12832.481750  36961.0  145.0  47.1         1.8    1.0  19.0    1.0   3.0\n",
              "2   6634.552000  25639.0  145.0  69.0         1.0    2.0  19.0    1.0   3.0\n",
              "3  15924.835111  33989.0  165.0  43.5         1.8   15.0  19.0    0.0   2.0\n",
              "4  10164.396583  20789.0  145.0  56.5         1.5   17.0  20.0    1.0   3.0"
            ]
          },
          "metadata": {
            "tags": []
          },
          "execution_count": 77
        }
      ]
    },
    {
      "cell_type": "code",
      "metadata": {
        "colab": {
          "base_uri": "https://localhost:8080/",
          "height": 284
        },
        "id": "IxEGhbXMVL35",
        "outputId": "35fa548f-e06c-4031-95a0-c7c7e1025fbe"
      },
      "source": [
        "result1 = pd.DataFrame({'Actual Price': data_original['price'], 'Predicted Price': data_pred['price']})\n",
        "result1['Error'] = abs(result1['Predicted Price'] - result1['Actual Price'])\n",
        "result1.describe()"
      ],
      "execution_count": null,
      "outputs": [
        {
          "output_type": "execute_result",
          "data": {
            "text/html": [
              "<div>\n",
              "<style scoped>\n",
              "    .dataframe tbody tr th:only-of-type {\n",
              "        vertical-align: middle;\n",
              "    }\n",
              "\n",
              "    .dataframe tbody tr th {\n",
              "        vertical-align: top;\n",
              "    }\n",
              "\n",
              "    .dataframe thead th {\n",
              "        text-align: right;\n",
              "    }\n",
              "</style>\n",
              "<table border=\"1\" class=\"dataframe\">\n",
              "  <thead>\n",
              "    <tr style=\"text-align: right;\">\n",
              "      <th></th>\n",
              "      <th>Actual Price</th>\n",
              "      <th>Predicted Price</th>\n",
              "      <th>Error</th>\n",
              "    </tr>\n",
              "  </thead>\n",
              "  <tbody>\n",
              "    <tr>\n",
              "      <th>count</th>\n",
              "      <td>1348.000000</td>\n",
              "      <td>1348.000000</td>\n",
              "      <td>1348.000000</td>\n",
              "    </tr>\n",
              "    <tr>\n",
              "      <th>mean</th>\n",
              "      <td>12614.126113</td>\n",
              "      <td>12559.952109</td>\n",
              "      <td>803.887035</td>\n",
              "    </tr>\n",
              "    <tr>\n",
              "      <th>std</th>\n",
              "      <td>6533.896591</td>\n",
              "      <td>6339.294600</td>\n",
              "      <td>1038.393187</td>\n",
              "    </tr>\n",
              "    <tr>\n",
              "      <th>min</th>\n",
              "      <td>2300.000000</td>\n",
              "      <td>2354.220000</td>\n",
              "      <td>0.368333</td>\n",
              "    </tr>\n",
              "    <tr>\n",
              "      <th>25%</th>\n",
              "      <td>8397.250000</td>\n",
              "      <td>8334.846000</td>\n",
              "      <td>236.794063</td>\n",
              "    </tr>\n",
              "    <tr>\n",
              "      <th>50%</th>\n",
              "      <td>10800.000000</td>\n",
              "      <td>10861.750000</td>\n",
              "      <td>547.720985</td>\n",
              "    </tr>\n",
              "    <tr>\n",
              "      <th>75%</th>\n",
              "      <td>14799.250000</td>\n",
              "      <td>14648.292083</td>\n",
              "      <td>1038.518542</td>\n",
              "    </tr>\n",
              "    <tr>\n",
              "      <th>max</th>\n",
              "      <td>59995.000000</td>\n",
              "      <td>52515.530000</td>\n",
              "      <td>17188.210000</td>\n",
              "    </tr>\n",
              "  </tbody>\n",
              "</table>\n",
              "</div>"
            ],
            "text/plain": [
              "       Actual Price  Predicted Price         Error\n",
              "count   1348.000000      1348.000000   1348.000000\n",
              "mean   12614.126113     12559.952109    803.887035\n",
              "std     6533.896591      6339.294600   1038.393187\n",
              "min     2300.000000      2354.220000      0.368333\n",
              "25%     8397.250000      8334.846000    236.794063\n",
              "50%    10800.000000     10861.750000    547.720985\n",
              "75%    14799.250000     14648.292083   1038.518542\n",
              "max    59995.000000     52515.530000  17188.210000"
            ]
          },
          "metadata": {
            "tags": []
          },
          "execution_count": 96
        }
      ]
    },
    {
      "cell_type": "code",
      "metadata": {
        "id": "mtGTyrWYd3Ct",
        "colab": {
          "base_uri": "https://localhost:8080/",
          "height": 935
        },
        "outputId": "55a11cf7-3e8f-4985-af27-7c43506b57f8"
      },
      "source": [
        "result1.head(30)"
      ],
      "execution_count": null,
      "outputs": [
        {
          "output_type": "execute_result",
          "data": {
            "text/html": [
              "<div>\n",
              "<style scoped>\n",
              "    .dataframe tbody tr th:only-of-type {\n",
              "        vertical-align: middle;\n",
              "    }\n",
              "\n",
              "    .dataframe tbody tr th {\n",
              "        vertical-align: top;\n",
              "    }\n",
              "\n",
              "    .dataframe thead th {\n",
              "        text-align: right;\n",
              "    }\n",
              "</style>\n",
              "<table border=\"1\" class=\"dataframe\">\n",
              "  <thead>\n",
              "    <tr style=\"text-align: right;\">\n",
              "      <th></th>\n",
              "      <th>Actual Price</th>\n",
              "      <th>Predicted Price</th>\n",
              "      <th>Error</th>\n",
              "    </tr>\n",
              "  </thead>\n",
              "  <tbody>\n",
              "    <tr>\n",
              "      <th>0</th>\n",
              "      <td>10500.0</td>\n",
              "      <td>10617.473000</td>\n",
              "      <td>117.473000</td>\n",
              "    </tr>\n",
              "    <tr>\n",
              "      <th>1</th>\n",
              "      <td>11998.0</td>\n",
              "      <td>12832.481750</td>\n",
              "      <td>834.481750</td>\n",
              "    </tr>\n",
              "    <tr>\n",
              "      <th>2</th>\n",
              "      <td>6750.0</td>\n",
              "      <td>6634.552000</td>\n",
              "      <td>115.448000</td>\n",
              "    </tr>\n",
              "    <tr>\n",
              "      <th>3</th>\n",
              "      <td>14800.0</td>\n",
              "      <td>15924.835111</td>\n",
              "      <td>1124.835111</td>\n",
              "    </tr>\n",
              "    <tr>\n",
              "      <th>4</th>\n",
              "      <td>10990.0</td>\n",
              "      <td>10164.396583</td>\n",
              "      <td>825.603417</td>\n",
              "    </tr>\n",
              "    <tr>\n",
              "      <th>5</th>\n",
              "      <td>14495.0</td>\n",
              "      <td>13357.632333</td>\n",
              "      <td>1137.367667</td>\n",
              "    </tr>\n",
              "    <tr>\n",
              "      <th>6</th>\n",
              "      <td>10495.0</td>\n",
              "      <td>11592.080000</td>\n",
              "      <td>1097.080000</td>\n",
              "    </tr>\n",
              "    <tr>\n",
              "      <th>7</th>\n",
              "      <td>11499.0</td>\n",
              "      <td>15948.320000</td>\n",
              "      <td>4449.320000</td>\n",
              "    </tr>\n",
              "    <tr>\n",
              "      <th>8</th>\n",
              "      <td>7901.0</td>\n",
              "      <td>8677.370000</td>\n",
              "      <td>776.370000</td>\n",
              "    </tr>\n",
              "    <tr>\n",
              "      <th>9</th>\n",
              "      <td>12199.0</td>\n",
              "      <td>13501.612833</td>\n",
              "      <td>1302.612833</td>\n",
              "    </tr>\n",
              "    <tr>\n",
              "      <th>10</th>\n",
              "      <td>10498.0</td>\n",
              "      <td>10679.210000</td>\n",
              "      <td>181.210000</td>\n",
              "    </tr>\n",
              "    <tr>\n",
              "      <th>11</th>\n",
              "      <td>14295.0</td>\n",
              "      <td>13117.320000</td>\n",
              "      <td>1177.680000</td>\n",
              "    </tr>\n",
              "    <tr>\n",
              "      <th>12</th>\n",
              "      <td>9400.0</td>\n",
              "      <td>9713.940833</td>\n",
              "      <td>313.940833</td>\n",
              "    </tr>\n",
              "    <tr>\n",
              "      <th>13</th>\n",
              "      <td>14650.0</td>\n",
              "      <td>14411.440000</td>\n",
              "      <td>238.560000</td>\n",
              "    </tr>\n",
              "    <tr>\n",
              "      <th>14</th>\n",
              "      <td>7995.0</td>\n",
              "      <td>7960.340000</td>\n",
              "      <td>34.660000</td>\n",
              "    </tr>\n",
              "    <tr>\n",
              "      <th>15</th>\n",
              "      <td>11691.0</td>\n",
              "      <td>12510.880000</td>\n",
              "      <td>819.880000</td>\n",
              "    </tr>\n",
              "    <tr>\n",
              "      <th>16</th>\n",
              "      <td>9800.0</td>\n",
              "      <td>11200.410000</td>\n",
              "      <td>1400.410000</td>\n",
              "    </tr>\n",
              "    <tr>\n",
              "      <th>17</th>\n",
              "      <td>9300.0</td>\n",
              "      <td>7781.930000</td>\n",
              "      <td>1518.070000</td>\n",
              "    </tr>\n",
              "    <tr>\n",
              "      <th>18</th>\n",
              "      <td>2991.0</td>\n",
              "      <td>2944.250000</td>\n",
              "      <td>46.750000</td>\n",
              "    </tr>\n",
              "    <tr>\n",
              "      <th>19</th>\n",
              "      <td>9495.0</td>\n",
              "      <td>8891.590000</td>\n",
              "      <td>603.410000</td>\n",
              "    </tr>\n",
              "    <tr>\n",
              "      <th>20</th>\n",
              "      <td>10998.0</td>\n",
              "      <td>12274.746667</td>\n",
              "      <td>1276.746667</td>\n",
              "    </tr>\n",
              "    <tr>\n",
              "      <th>21</th>\n",
              "      <td>6522.0</td>\n",
              "      <td>6605.958333</td>\n",
              "      <td>83.958333</td>\n",
              "    </tr>\n",
              "    <tr>\n",
              "      <th>22</th>\n",
              "      <td>8399.0</td>\n",
              "      <td>8689.180000</td>\n",
              "      <td>290.180000</td>\n",
              "    </tr>\n",
              "    <tr>\n",
              "      <th>23</th>\n",
              "      <td>9450.0</td>\n",
              "      <td>10219.850000</td>\n",
              "      <td>769.850000</td>\n",
              "    </tr>\n",
              "    <tr>\n",
              "      <th>24</th>\n",
              "      <td>10990.0</td>\n",
              "      <td>11164.653667</td>\n",
              "      <td>174.653667</td>\n",
              "    </tr>\n",
              "    <tr>\n",
              "      <th>25</th>\n",
              "      <td>26995.0</td>\n",
              "      <td>29398.868333</td>\n",
              "      <td>2403.868333</td>\n",
              "    </tr>\n",
              "    <tr>\n",
              "      <th>26</th>\n",
              "      <td>25000.0</td>\n",
              "      <td>26953.320000</td>\n",
              "      <td>1953.320000</td>\n",
              "    </tr>\n",
              "    <tr>\n",
              "      <th>27</th>\n",
              "      <td>8995.0</td>\n",
              "      <td>8746.246667</td>\n",
              "      <td>248.753333</td>\n",
              "    </tr>\n",
              "    <tr>\n",
              "      <th>28</th>\n",
              "      <td>18690.0</td>\n",
              "      <td>19610.350000</td>\n",
              "      <td>920.350000</td>\n",
              "    </tr>\n",
              "    <tr>\n",
              "      <th>29</th>\n",
              "      <td>12245.0</td>\n",
              "      <td>11862.150000</td>\n",
              "      <td>382.850000</td>\n",
              "    </tr>\n",
              "  </tbody>\n",
              "</table>\n",
              "</div>"
            ],
            "text/plain": [
              "    Actual Price  Predicted Price        Error\n",
              "0        10500.0     10617.473000   117.473000\n",
              "1        11998.0     12832.481750   834.481750\n",
              "2         6750.0      6634.552000   115.448000\n",
              "3        14800.0     15924.835111  1124.835111\n",
              "4        10990.0     10164.396583   825.603417\n",
              "5        14495.0     13357.632333  1137.367667\n",
              "6        10495.0     11592.080000  1097.080000\n",
              "7        11499.0     15948.320000  4449.320000\n",
              "8         7901.0      8677.370000   776.370000\n",
              "9        12199.0     13501.612833  1302.612833\n",
              "10       10498.0     10679.210000   181.210000\n",
              "11       14295.0     13117.320000  1177.680000\n",
              "12        9400.0      9713.940833   313.940833\n",
              "13       14650.0     14411.440000   238.560000\n",
              "14        7995.0      7960.340000    34.660000\n",
              "15       11691.0     12510.880000   819.880000\n",
              "16        9800.0     11200.410000  1400.410000\n",
              "17        9300.0      7781.930000  1518.070000\n",
              "18        2991.0      2944.250000    46.750000\n",
              "19        9495.0      8891.590000   603.410000\n",
              "20       10998.0     12274.746667  1276.746667\n",
              "21        6522.0      6605.958333    83.958333\n",
              "22        8399.0      8689.180000   290.180000\n",
              "23        9450.0     10219.850000   769.850000\n",
              "24       10990.0     11164.653667   174.653667\n",
              "25       26995.0     29398.868333  2403.868333\n",
              "26       25000.0     26953.320000  1953.320000\n",
              "27        8995.0      8746.246667   248.753333\n",
              "28       18690.0     19610.350000   920.350000\n",
              "29       12245.0     11862.150000   382.850000"
            ]
          },
          "metadata": {
            "tags": []
          },
          "execution_count": 97
        }
      ]
    },
    {
      "cell_type": "code",
      "metadata": {
        "colab": {
          "base_uri": "https://localhost:8080/",
          "height": 720
        },
        "id": "RVwpdO3tb-ax",
        "outputId": "64790bab-3f45-4096-9a5b-b30a5f51537d"
      },
      "source": [
        "compare = result1.head(30)\n",
        "compare.plot(kind = 'bar', figsize=(12,10), grid=True)"
      ],
      "execution_count": null,
      "outputs": [
        {
          "output_type": "execute_result",
          "data": {
            "text/plain": [
              "<matplotlib.axes._subplots.AxesSubplot at 0x7f8fb9ac2790>"
            ]
          },
          "metadata": {
            "tags": []
          },
          "execution_count": 95
        },
        {
          "output_type": "display_data",
          "data": {
            "image/png": "[encoded data removed]",
            "text/plain": [
              "<Figure size 1080x864 with 1 Axes>"
            ]
          },
          "metadata": {
            "tags": [],
            "needs_background": "light"
          }
        }
      ]
    }
  ]
}